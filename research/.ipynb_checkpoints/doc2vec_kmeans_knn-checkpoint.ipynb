{
 "cells": [
  {
   "cell_type": "markdown",
   "id": "6badd711-6055-4a40-90fd-d5e65c0a80c4",
   "metadata": {},
   "source": [
    "# Vectorization and clusterization of notes using Doc2Vec and KNearestNeighbors algorithms"
   ]
  },
  {
   "cell_type": "markdown",
   "id": "2fa3e9dc-6b57-4518-ae65-f8b77e515959",
   "metadata": {},
   "source": [
    "## Create and activate Python environment"
   ]
  },
  {
   "cell_type": "code",
   "execution_count": 1,
   "id": "7f6c1412-a425-4ed6-9c7f-4f71af80c71a",
   "metadata": {
    "tags": []
   },
   "outputs": [],
   "source": [
    "!python3 -m venv ./venv\n",
    "!source ./venv/bin/activate"
   ]
  },
  {
   "cell_type": "markdown",
   "id": "1c9f5842-f88a-4e5e-b99c-a1617dff3df7",
   "metadata": {},
   "source": [
    "## Install packages"
   ]
  },
  {
   "cell_type": "code",
   "execution_count": 2,
   "id": "414b426f-c963-4f65-8678-3a36127166ee",
   "metadata": {
    "tags": []
   },
   "outputs": [
    {
     "name": "stdout",
     "output_type": "stream",
     "text": [
      "Requirement already satisfied: nltk in /Users/pierreportal/anaconda3/lib/python3.11/site-packages (3.8.1)\n",
      "Requirement already satisfied: scikit-learn in /Users/pierreportal/anaconda3/lib/python3.11/site-packages (1.3.0)\n",
      "Requirement already satisfied: click in /Users/pierreportal/anaconda3/lib/python3.11/site-packages (from nltk) (8.0.4)\n",
      "Requirement already satisfied: joblib in /Users/pierreportal/anaconda3/lib/python3.11/site-packages (from nltk) (1.2.0)\n",
      "Requirement already satisfied: regex>=2021.8.3 in /Users/pierreportal/anaconda3/lib/python3.11/site-packages (from nltk) (2022.7.9)\n",
      "Requirement already satisfied: tqdm in /Users/pierreportal/anaconda3/lib/python3.11/site-packages (from nltk) (4.64.1)\n",
      "Requirement already satisfied: numpy>=1.17.3 in /Users/pierreportal/anaconda3/lib/python3.11/site-packages (from scikit-learn) (1.24.3)\n",
      "Requirement already satisfied: scipy>=1.5.0 in /Users/pierreportal/anaconda3/lib/python3.11/site-packages (from scikit-learn) (1.9.3)\n",
      "Requirement already satisfied: threadpoolctl>=2.0.0 in /Users/pierreportal/anaconda3/lib/python3.11/site-packages (from scikit-learn) (2.2.0)\n",
      "\u001b[33mDEPRECATION: torchsde 0.2.5 has a non-standard dependency specifier numpy>=1.19.*; python_version >= \"3.7\". pip 23.3 will enforce this behaviour change. A possible replacement is to upgrade to a newer version of torchsde or contact the author to suggest that they release a version with a conforming dependency specifiers. Discussion can be found at https://github.com/pypa/pip/issues/12063\u001b[0m\u001b[33m\n",
      "\u001b[0mRequirement already satisfied: gensim in /Users/pierreportal/anaconda3/lib/python3.11/site-packages (4.3.2)\n",
      "Requirement already satisfied: numpy>=1.18.5 in /Users/pierreportal/anaconda3/lib/python3.11/site-packages (from gensim) (1.24.3)\n",
      "Requirement already satisfied: scipy>=1.7.0 in /Users/pierreportal/anaconda3/lib/python3.11/site-packages (from gensim) (1.9.3)\n",
      "Requirement already satisfied: smart-open>=1.8.1 in /Users/pierreportal/anaconda3/lib/python3.11/site-packages (from gensim) (5.2.1)\n",
      "\u001b[33mDEPRECATION: torchsde 0.2.5 has a non-standard dependency specifier numpy>=1.19.*; python_version >= \"3.7\". pip 23.3 will enforce this behaviour change. A possible replacement is to upgrade to a newer version of torchsde or contact the author to suggest that they release a version with a conforming dependency specifiers. Discussion can be found at https://github.com/pypa/pip/issues/12063\u001b[0m\u001b[33m\n",
      "\u001b[0m"
     ]
    }
   ],
   "source": [
    "!python3 -m pip install nltk scikit-learn\n",
    "!python3 -m pip install --upgrade gensim"
   ]
  },
  {
   "cell_type": "markdown",
   "id": "221cf520-f85c-4740-8d05-120ab1b4d73a",
   "metadata": {},
   "source": [
    "## Load data"
   ]
  },
  {
   "cell_type": "code",
   "execution_count": 3,
   "id": "202b380e-56f3-48a6-8b1e-43cad22bf581",
   "metadata": {
    "tags": []
   },
   "outputs": [
    {
     "name": "stdout",
     "output_type": "stream",
     "text": [
      "dataset size: 133\n"
     ]
    }
   ],
   "source": [
    "import json\n",
    "import random\n",
    "\n",
    "with open('notes.json') as f:\n",
    "    notes = json.load(f)\n",
    "\n",
    "random.shuffle(notes)\n",
    "\n",
    "print(f\"dataset size: {len(notes)}\")"
   ]
  },
  {
   "cell_type": "markdown",
   "id": "30bd27b0-71d8-4b5a-b684-bee4191017c0",
   "metadata": {
    "tags": []
   },
   "source": [
    "## Preprocess text data"
   ]
  },
  {
   "cell_type": "code",
   "execution_count": 4,
   "id": "621bf1fe-b944-4297-ad95-b96a34b02642",
   "metadata": {
    "tags": []
   },
   "outputs": [
    {
     "name": "stdout",
     "output_type": "stream",
     "text": [
      "Initial note:\n",
      "Tools like Jira, Trello, and Asana for managing Agile projects, including sprint planning, backlog grooming, and task tracking.\n",
      "\n",
      "Preprocessed:\n",
      "['tools', 'like', 'jira', 'trello', 'asana', 'managing', 'agile', 'projects', 'including', 'sprint', 'planning', 'backlog', 'grooming', 'task', 'tracking']\n"
     ]
    },
    {
     "name": "stderr",
     "output_type": "stream",
     "text": [
      "[nltk_data] Downloading package punkt to\n",
      "[nltk_data]     /Users/pierreportal/nltk_data...\n",
      "[nltk_data]   Package punkt is already up-to-date!\n",
      "[nltk_data] Downloading package stopwords to\n",
      "[nltk_data]     /Users/pierreportal/nltk_data...\n",
      "[nltk_data]   Package stopwords is already up-to-date!\n"
     ]
    }
   ],
   "source": [
    "import numpy as np\n",
    "import nltk\n",
    "from nltk.corpus import stopwords\n",
    "from nltk.tokenize import word_tokenize\n",
    "import string\n",
    "\n",
    "nltk.download('punkt')\n",
    "nltk.download('stopwords')\n",
    "\n",
    "stop_words = set(stopwords.words('english'))\n",
    "\n",
    "def preprocess_text(text):\n",
    "    tokens = word_tokenize(text.lower())\n",
    "    tokens = [word for word in tokens if word.isalpha() and word not in stop_words]\n",
    "    return tokens\n",
    "\n",
    "print(f\"Initial note:\\n{notes[0]}\\n\\nPreprocessed:\\n{preprocess_text(notes[0])}\")"
   ]
  },
  {
   "cell_type": "code",
   "execution_count": 5,
   "id": "adfc64ee-c319-4d3a-9f54-17bee3bb9c91",
   "metadata": {
    "tags": []
   },
   "outputs": [],
   "source": [
    "from gensim.models.doc2vec import TaggedDocument\n",
    "\n",
    "processed_notes = [preprocess_text(note) for note in notes]\n",
    "\n",
    "tagged_data = [TaggedDocument(words=note, tags=[str(i)]) for i, note in enumerate(processed_notes)]"
   ]
  },
  {
   "cell_type": "code",
   "execution_count": 6,
   "id": "44c97796-f82b-4709-803a-744d7243d847",
   "metadata": {
    "tags": []
   },
   "outputs": [
    {
     "name": "stdout",
     "output_type": "stream",
     "text": [
      "TaggedDocument<['tools', 'like', 'jira', 'trello', 'asana', 'managing', 'agile', 'projects', 'including', 'sprint', 'planning', 'backlog', 'grooming', 'task', 'tracking'], ['0']>\n"
     ]
    }
   ],
   "source": [
    "print(tagged_data[0])"
   ]
  },
  {
   "cell_type": "markdown",
   "id": "07eda202-2347-48a3-a617-b667d1fa4721",
   "metadata": {},
   "source": [
    "## Load and train the Doc2Vec model"
   ]
  },
  {
   "cell_type": "code",
   "execution_count": 7,
   "id": "8d4d940c-1ead-45c1-b20d-82d9ce523f9b",
   "metadata": {
    "tags": []
   },
   "outputs": [],
   "source": [
    "from gensim.models import Doc2Vec\n",
    "\n",
    "vector_size=50\n",
    "min_count=1\n",
    "epochs=100\n",
    "\n",
    "doc2vec_model = Doc2Vec(vector_size=vector_size, min_count=min_count, epochs=epochs)\n",
    "doc2vec_model.build_vocab(tagged_data)\n",
    "doc2vec_model.train(tagged_data, total_examples=doc2vec_model.corpus_count, epochs=doc2vec_model.epochs)"
   ]
  },
  {
   "cell_type": "code",
   "execution_count": 8,
   "id": "394d9a92-7f37-407b-8e03-a2822e3e13fa",
   "metadata": {
    "tags": []
   },
   "outputs": [
    {
     "data": {
      "text/plain": [
       "array([-0.27468142,  0.27619445,  0.26503268,  0.06048562, -0.21438724,\n",
       "       -0.563936  ,  0.18692136,  0.31484753, -0.6822582 ,  0.26847363,\n",
       "        0.30253795, -0.18044133, -0.04983178, -0.05852026, -0.23125522,\n",
       "        0.03730061,  0.7396006 , -0.07036123, -0.8256953 , -0.34298027,\n",
       "       -0.4784704 , -0.20906511,  0.4879234 , -0.17216413,  0.49037096,\n",
       "        0.05954887,  0.16524005, -0.08221433, -0.04545066, -0.2469496 ,\n",
       "        0.37463522,  0.7013687 , -0.05466388,  0.47488257, -0.43374127,\n",
       "        0.25517932,  0.2609256 , -0.4122217 ,  0.277429  , -0.3633932 ,\n",
       "        0.46803692,  0.3126173 ,  0.07153528, -0.5221896 ,  0.45020878,\n",
       "        0.29929075, -0.2824998 , -0.4814712 ,  0.63328105,  0.28181896],\n",
       "      dtype=float32)"
      ]
     },
     "execution_count": 8,
     "metadata": {},
     "output_type": "execute_result"
    }
   ],
   "source": [
    "note_vectors = [doc2vec_model.infer_vector(note) for note in processed_notes]\n",
    "note_vectors[0]"
   ]
  },
  {
   "cell_type": "markdown",
   "id": "22103520-16a0-4747-b86f-5ccb2bdcca62",
   "metadata": {},
   "source": [
    "## Fit the vectors to the NearestNeighbors model\n",
    "\n",
    "**n_jobs** *int, default=None*<br>\n",
    "The number of parallel jobs to run for neighbors search.<br>\n",
    "**None** means 1 unless in a joblib.parallel_backend context.<br> \n",
    "**-1** means using all processors.\n",
    "\n",
    "**p** *float (positive), default=2*<br>\n",
    "Parameter for the Minkowski metric from sklearn.metrics.pairwise.pairwise_distances.<br>\n",
    "When p = 1, this is equivalent to using manhattan_distance (l1), and euclidean_distance (l2)<br>\n",
    "for p = 2. For arbitrary p, minkowski_distance (l_p) is used.\n",
    "\n",
    "**radius** *float, default=1.0*<br>\n",
    "Range of parameter space to use by default for radius_neighbors queries.<br>\n",
    "`radius_neighbors queries`: Find the neighbors within a given radius of a point or points.\n",
    "Return the indices and distances of each point from the dataset lying in a ball with size radius \n",
    "around the points of the query array. Points lying on the boundary are included in the results.\n",
    "The result points are not necessarily sorted by distance to their query point.\n",
    "\n",
    "**algorithm** *{‘auto’, ‘ball_tree’, ‘kd_tree’, ‘brute’}, default=’auto’*<br>\n",
    "Algorithm used to compute the nearest neighbors:<br>\n",
    "‘ball_tree’ will use BallTree<br>\n",
    "‘kd_tree’ will use KDTree<br>\n",
    "‘brute’ will use a brute-force search.<br>\n",
    "‘auto’ will attempt to decide the most appropriate algorithm based on the values passed to fit method."
   ]
  },
  {
   "cell_type": "code",
   "execution_count": 9,
   "id": "6f768ef9-ead9-41fb-a5c7-ea795e841e07",
   "metadata": {
    "tags": []
   },
   "outputs": [
    {
     "name": "stdout",
     "output_type": "stream",
     "text": [
      "For a reference note X, retrieve the 4 most similar notes.\n",
      "\n",
      "Algorithm used: auto\n",
      "Metric: minkowski\n",
      "\n",
      "\n",
      "**Note reference**:\n",
      "Tools like Jira, Trello, and Asana for managing Agile projects, including sprint...\n",
      "\n",
      "**Similar notes:**\n",
      " --> Automating CI/CD pipelines using tools like Jenkins, Travis CI, CircleCI, and Gi...\n",
      " --> Tips and strategies for preparing for software engineering interviews, including...\n",
      " --> Understanding the Agile methodology and its iterative approach to software devel...\n",
      " --> Real-world examples of successful software engineering projects, including chall...\n",
      "\n",
      "\n",
      "**Note reference**:\n",
      "Guidelines for documenting software, including API documentation, user manuals, ...\n",
      "\n",
      "**Similar notes:**\n",
      " --> Tips and strategies for preparing for software engineering interviews, including...\n",
      " --> An overview of software engineering principles, methodologies, and practices....\n",
      " --> The importance of UX design in creating intuitive and user-friendly software app...\n",
      " --> Recommendations for podcasts, blogs, forums, and online courses for staying upda...\n",
      "\n",
      "\n",
      "**Note reference**:\n",
      "Understanding Kanban as a visual system for managing work as it moves through va...\n",
      "\n",
      "**Similar notes:**\n",
      " --> Essential skills for software engineers, career paths (like front-end, back-end,...\n",
      " --> A deep dive into the Scrum framework, including roles, ceremonies, and artifacts...\n",
      " --> An overview of software engineering principles, methodologies, and practices....\n",
      " --> Understanding the Agile methodology and its iterative approach to software devel...\n",
      "\n",
      "\n",
      "**Note reference**:\n",
      "Explaining the differences between Continuous Delivery (CD) and Continuous Deplo...\n",
      "\n",
      "**Similar notes:**\n",
      " --> CD is a software engineering approach where teams produce software in short cycl...\n",
      " --> Methods for deploying software applications, such as blue-green deployment, cana...\n",
      " --> CI/CD pipelines automate the process of building, testing, and deploying softwar...\n",
      " --> Explaining the traditional Waterfall model and its sequential approach to softwa...\n"
     ]
    }
   ],
   "source": [
    "from sklearn.neighbors import NearestNeighbors\n",
    "\n",
    "n_neighbors=5\n",
    "radius=0.4\n",
    "algorithm='auto' #(default)\n",
    "metric='minkowski' #(default)\n",
    "p=2\n",
    "\n",
    "def evaluate(vectors, configs):\n",
    "    algorithm, metric = configs\n",
    "    \n",
    "    X = np.array(vectors)\n",
    "\n",
    "    \n",
    "    nn_model = NearestNeighbors(\n",
    "\n",
    "        n_neighbors = n_neighbors, \n",
    "        radius      = radius, \n",
    "        algorithm   = algorithm,\n",
    "        metric      = metric\n",
    "\n",
    "    ).fit(X)\n",
    "\n",
    "    distances, indices = nn_model.kneighbors(X)\n",
    "\n",
    "    print(f\"For a reference note X, retrieve the {n_neighbors-1} most similar notes.\")\n",
    "    print(f\"\\nAlgorithm used: {algorithm}\\nMetric: {metric}\")\n",
    "\n",
    "    for i, note in enumerate(notes[:4]):\n",
    "        print(f\"\\n\\n**Note reference**:\\n{note[:80]}...\\n\\n**Similar notes:**\")\n",
    "        for j in indices[i]:\n",
    "            if i != j:  # Skip the note itself\n",
    "                print(f\" --> {notes[j][:80]}...\")\n",
    "    return nn_model\n",
    "                \n",
    "nn_model1 = evaluate(note_vectors,[algorithm, metric])"
   ]
  },
  {
   "cell_type": "markdown",
   "id": "023f5292-15b2-404d-a868-a14580b00203",
   "metadata": {},
   "source": [
    "## Using the `cosine` metric seems to give better results"
   ]
  },
  {
   "cell_type": "code",
   "execution_count": 10,
   "id": "c5605f55-f5be-4c1b-aaa7-5d4cc5ea6c19",
   "metadata": {
    "tags": []
   },
   "outputs": [
    {
     "name": "stdout",
     "output_type": "stream",
     "text": [
      "For a reference note X, retrieve the 4 most similar notes.\n",
      "\n",
      "Algorithm used: auto\n",
      "Metric: cosine\n",
      "\n",
      "\n",
      "**Note reference**:\n",
      "Tools like Jira, Trello, and Asana for managing Agile projects, including sprint...\n",
      "\n",
      "**Similar notes:**\n",
      " --> Automating CI/CD pipelines using tools like Jenkins, Travis CI, CircleCI, and Gi...\n",
      " --> Agile is an iterative approach to software development that emphasizes collabora...\n",
      " --> Essential skills for software engineers, career paths (like front-end, back-end,...\n",
      " --> Tips and strategies for preparing for software engineering interviews, including...\n",
      "\n",
      "\n",
      "**Note reference**:\n",
      "Guidelines for documenting software, including API documentation, user manuals, ...\n",
      "\n",
      "**Similar notes:**\n",
      " --> Tips and strategies for preparing for software engineering interviews, including...\n",
      " --> UX design focuses on enhancing user satisfaction by improving usability, accessi...\n",
      " --> QA ensures that software meets specified requirements and quality standards. It ...\n",
      " --> An overview of software engineering principles, methodologies, and practices....\n",
      "\n",
      "\n",
      "**Note reference**:\n",
      "Understanding Kanban as a visual system for managing work as it moves through va...\n",
      "\n",
      "**Similar notes:**\n",
      " --> A deep dive into the Scrum framework, including roles, ceremonies, and artifacts...\n",
      " --> Introduction to blockchain technology and its impact on software development, in...\n",
      " --> Kanban is an Agile methodology that focuses on visualizing work, limiting work i...\n",
      " --> Tools like Jira, Trello, and Asana for managing Agile projects, including sprint...\n",
      "\n",
      "\n",
      "**Note reference**:\n",
      "Explaining the differences between Continuous Delivery (CD) and Continuous Deplo...\n",
      "\n",
      "**Similar notes:**\n",
      " --> CD is a software engineering approach where teams produce software in short cycl...\n",
      " --> Methods for deploying software applications, such as blue-green deployment, cana...\n",
      " --> The Waterfall model is a linear sequential approach to software development, whe...\n",
      " --> Explaining the traditional Waterfall model and its sequential approach to softwa...\n"
     ]
    }
   ],
   "source": [
    "nn_model2 = evaluate(note_vectors, ['auto', 'cosine'])"
   ]
  },
  {
   "cell_type": "markdown",
   "id": "a90b84ff-5400-4ec6-9b31-2dafa1e8e8d3",
   "metadata": {
    "tags": []
   },
   "source": [
    "## The following script had been used to compare different metrics:"
   ]
  },
  {
   "cell_type": "markdown",
   "id": "ce325412-7396-434d-8d8f-1846150e4a17",
   "metadata": {
    "tags": []
   },
   "source": [
    "```python\n",
    "\n",
    "metrics = [\n",
    "    'minkowski'\n",
    "    'cityblock',\n",
    "    'cosine',\n",
    "    'euclidean',\n",
    "    'l1',\n",
    "    'l2',\n",
    "    'manhattan',\n",
    "    'nan_euclidean'\n",
    "]\n",
    "\n",
    "def compare(metrics):\n",
    "    m1, m2 = metrics\n",
    "    \n",
    "    nbrs1 = NearestNeighbors(\n",
    "\n",
    "        n_neighbors = n_neighbors, \n",
    "        radius      = radius, \n",
    "        algorithm   = algorithm,\n",
    "        metric      = m1\n",
    "\n",
    "    ).fit(X)\n",
    "    \n",
    "    \n",
    "    nbrs2 = NearestNeighbors(\n",
    "\n",
    "        n_neighbors = n_neighbors, \n",
    "        radius      = radius, \n",
    "        algorithm   = algorithm,\n",
    "        metric      = m2\n",
    "\n",
    "    ).fit(X)\n",
    "\n",
    "    distances1, indices1 = nbrs1.kneighbors(X)\n",
    "    distances2, indices2 = nbrs2.kneighbors(X)\n",
    "    \n",
    "    results = {}\n",
    "    results[m1] = {}\n",
    "    results[m2] = {}\n",
    "\n",
    "    for i, note in enumerate(notes[:4]):\n",
    "        key = note\n",
    "        results[m1][key] = []\n",
    "        results[m2][key] = []\n",
    "        \n",
    "        for a, b in zip(indices1[i], indices2[i]):\n",
    "            if i != a:  # Skip the note itself\n",
    "                results[m1][key].append(notes[a])\n",
    "                results[m2][key].append(notes[b])\n",
    "                \n",
    "                \n",
    "    return results  \n",
    "\n",
    "tests = [['minkowski', x] for x in metrics]\n",
    "\n",
    "for pair in tests:\n",
    "    res = compare(pair)\n",
    "\n",
    "    A, B = res\n",
    "\n",
    "    substr = 80\n",
    "\n",
    "    for ref1, ref2 in zip(res[A], res[B]):\n",
    "\n",
    "        print(f\"\\n{ref1}\\n\")\n",
    "\n",
    "        for v1, v2 in zip(sorted(res[A][ref1]), sorted(res[B][ref1])):\n",
    "            print(f\"---\\n{A}: {v1[:substr]}...\\n{B}: {v2[:substr]}...\")\n",
    "```"
   ]
  },
  {
   "cell_type": "markdown",
   "id": "4a966cab-03ee-4423-9943-aa20827f690c",
   "metadata": {},
   "source": [
    "## Now let's try to retrieve similar notes for a new entry using the pre trained models"
   ]
  },
  {
   "cell_type": "code",
   "execution_count": 21,
   "id": "6773ea20-c632-4616-8b80-c590187645cf",
   "metadata": {
    "tags": []
   },
   "outputs": [],
   "source": [
    "def find_n_similar(note, n, threshold=1.0):\n",
    "    processed_note = preprocess_text(note)\n",
    "    note_vectors = doc2vec_model.infer_vector(processed_note)\n",
    "    distances, indices = nn_model2.kneighbors([note_vectors], n_neighbors=n)\n",
    "    \n",
    "    filtered_indices = [\n",
    "        indices[0][x] \n",
    "        for x in range(n) \n",
    "        if distances[0][x] <= threshold\n",
    "    ]\n",
    "    \n",
    "    print(filtered_indices)\n",
    "    \n",
    "    return [notes[i] for i in filtered_indices]"
   ]
  },
  {
   "cell_type": "code",
   "execution_count": 22,
   "id": "83c8a9b0-d01b-4287-a398-ed064cbb2e3f",
   "metadata": {
    "tags": []
   },
   "outputs": [
    {
     "name": "stdout",
     "output_type": "stream",
     "text": [
      "[125, 40, 57, 17]\n",
      "-> TypeScript is a typed superset of JavaScript that compiles to plain JavaScript. ...\n",
      "-> React Hook Form is a library that helps you build and manage forms in React. It ...\n",
      "-> Next.js is a React framework for server-side rendering and static site generatio...\n",
      "-> ES6, also known as ECMAScript 2015, introduced new features to JavaScript, inclu...\n"
     ]
    }
   ],
   "source": [
    "new_note = \"TypeScript is a statically typed superset of JavaScript that adds optional static types, interfaces, and other powerful features to the language. Developed and maintained by Microsoft, TypeScript aims to improve the developer experience by catching errors early through static type checking, which can prevent many common JavaScript runtime errors. TypeScript code compiles down to plain JavaScript, ensuring compatibility with any environment that runs JavaScript, including browsers and Node.js. This makes TypeScript a practical choice for large-scale applications and teams that require robust, maintainable codebases. One of the key features of TypeScript is its static typing. By explicitly defining the types of variables, function parameters, and return values, developers can catch type-related errors at compile time, rather than at runtime. This leads to more predictable and reliable code. TypeScript's type system is quite flexible, supporting various types such as unions, intersections, and generics, which allow for sophisticated type expressions.\"\n",
    "\n",
    "similar_notes = find_n_similar(new_note, n=4)\n",
    "\n",
    "# similar_notes\n",
    "for i in similar_notes:\n",
    "    print(f\"-> {i[:80]}...\")\n",
    "    \n"
   ]
  },
  {
   "cell_type": "markdown",
   "id": "189bf4a9-c962-4247-80b3-9108accfdce9",
   "metadata": {},
   "source": [
    "## For markdown formatted notes"
   ]
  },
  {
   "cell_type": "code",
   "execution_count": 41,
   "id": "3ab3c638-17bd-4bd5-993a-e2111fd5d66d",
   "metadata": {
    "tags": []
   },
   "outputs": [
    {
     "name": "stdout",
     "output_type": "stream",
     "text": [
      "[106, 125, 17, 57]\n",
      "-> Webpack is a module bundler for JavaScript applications. It takes modules with d...\n",
      "-> TypeScript is a typed superset of JavaScript that compiles to plain JavaScript. ...\n",
      "-> ES6, also known as ECMAScript 2015, introduced new features to JavaScript, inclu...\n",
      "-> Next.js is a React framework for server-side rendering and static site generatio...\n"
     ]
    }
   ],
   "source": [
    "import markdown\n",
    "    \n",
    "with open('webpack.md', 'r') as f:\n",
    "    markdown_string = f.read()\n",
    "\n",
    "similar_notes = find_n_similar(markdown_string, n=4)\n",
    "\n",
    "for i in similar_notes:\n",
    "    print(f\"-> {i[:80]}...\")"
   ]
  },
  {
   "cell_type": "markdown",
   "id": "f2a70a6f-395b-40c9-8919-ecff3c8c68a0",
   "metadata": {
    "tags": []
   },
   "source": [
    "### Here is an example of what the output looks like when we don't have enough data related to the reference subject. We still have the most similar notes but quite out of context"
   ]
  },
  {
   "cell_type": "code",
   "execution_count": 46,
   "id": "7cda2ef1-9704-46e3-9c61-30f754cb62fd",
   "metadata": {
    "tags": []
   },
   "outputs": [
    {
     "name": "stdout",
     "output_type": "stream",
     "text": [
      "[4, 96, 17, 128]\n",
      "-> JavaScript is a programming language that allows you to create dynamically updat...\n",
      "-> GraphQL is a query language for APIs that allows clients to request exactly the ...\n",
      "-> ES6, also known as ECMAScript 2015, introduced new features to JavaScript, inclu...\n",
      "-> GraphQL is a query language for APIs and a runtime for executing queries. It pro...\n"
     ]
    }
   ],
   "source": [
    "with open('scala_note.md', 'r') as f:\n",
    "    scala_note_markdown_string = f.read()\n",
    "\n",
    "similar_notes = find_n_similar(scala_note_markdown_string, n=4)\n",
    "\n",
    "for i in similar_notes:\n",
    "    print(f\"-> {i[:80]}...\")"
   ]
  },
  {
   "cell_type": "markdown",
   "id": "97dd8955-4548-40c4-8d53-5eb9ea2a6043",
   "metadata": {},
   "source": [
    "### We can then introduce a threshold to the distance"
   ]
  },
  {
   "cell_type": "code",
   "execution_count": 47,
   "id": "edbde6cf-9a4c-4671-82fb-7cbabe2e9789",
   "metadata": {
    "tags": []
   },
   "outputs": [
    {
     "name": "stdout",
     "output_type": "stream",
     "text": [
      "[]\n"
     ]
    }
   ],
   "source": [
    "similar_notes = find_n_similar(scala_note_markdown_string, n=4, threshold=0.1)\n",
    "\n",
    "for i in similar_notes:\n",
    "    print(f\"-> {i[:80]}...\")"
   ]
  }
 ],
 "metadata": {
  "kernelspec": {
   "display_name": "Python 3 (ipykernel)",
   "language": "python",
   "name": "python3"
  },
  "language_info": {
   "codemirror_mode": {
    "name": "ipython",
    "version": 3
   },
   "file_extension": ".py",
   "mimetype": "text/x-python",
   "name": "python",
   "nbconvert_exporter": "python",
   "pygments_lexer": "ipython3",
   "version": "3.11.5"
  }
 },
 "nbformat": 4,
 "nbformat_minor": 5
}
