{
 "cells": [
  {
   "cell_type": "markdown",
   "id": "6badd711-6055-4a40-90fd-d5e65c0a80c4",
   "metadata": {},
   "source": [
    "# Vectorization and clusterization of notes using Doc2Vec, TF-IDF and KNN algorithms"
   ]
  },
  {
   "cell_type": "markdown",
   "id": "2fa3e9dc-6b57-4518-ae65-f8b77e515959",
   "metadata": {},
   "source": [
    "## Create and activate Python environment"
   ]
  },
  {
   "cell_type": "code",
   "execution_count": 1,
   "id": "7f6c1412-a425-4ed6-9c7f-4f71af80c71a",
   "metadata": {
    "tags": []
   },
   "outputs": [],
   "source": [
    "!python3 -m venv ./venv\n",
    "!source ./venv/bin/activate"
   ]
  },
  {
   "cell_type": "markdown",
   "id": "1c9f5842-f88a-4e5e-b99c-a1617dff3df7",
   "metadata": {},
   "source": [
    "## Install packages"
   ]
  },
  {
   "cell_type": "code",
   "execution_count": 2,
   "id": "414b426f-c963-4f65-8678-3a36127166ee",
   "metadata": {
    "tags": []
   },
   "outputs": [
    {
     "name": "stdout",
     "output_type": "stream",
     "text": [
      "Requirement already satisfied: nltk in /Users/pierreportal/anaconda3/lib/python3.11/site-packages (3.8.1)\n",
      "Requirement already satisfied: scikit-learn in /Users/pierreportal/anaconda3/lib/python3.11/site-packages (1.3.0)\n",
      "Requirement already satisfied: click in /Users/pierreportal/anaconda3/lib/python3.11/site-packages (from nltk) (8.0.4)\n",
      "Requirement already satisfied: joblib in /Users/pierreportal/anaconda3/lib/python3.11/site-packages (from nltk) (1.2.0)\n",
      "Requirement already satisfied: regex>=2021.8.3 in /Users/pierreportal/anaconda3/lib/python3.11/site-packages (from nltk) (2022.7.9)\n",
      "Requirement already satisfied: tqdm in /Users/pierreportal/anaconda3/lib/python3.11/site-packages (from nltk) (4.64.1)\n",
      "Requirement already satisfied: numpy>=1.17.3 in /Users/pierreportal/anaconda3/lib/python3.11/site-packages (from scikit-learn) (1.24.3)\n",
      "Requirement already satisfied: scipy>=1.5.0 in /Users/pierreportal/anaconda3/lib/python3.11/site-packages (from scikit-learn) (1.9.3)\n",
      "Requirement already satisfied: threadpoolctl>=2.0.0 in /Users/pierreportal/anaconda3/lib/python3.11/site-packages (from scikit-learn) (2.2.0)\n",
      "\u001b[33mDEPRECATION: torchsde 0.2.5 has a non-standard dependency specifier numpy>=1.19.*; python_version >= \"3.7\". pip 23.3 will enforce this behaviour change. A possible replacement is to upgrade to a newer version of torchsde or contact the author to suggest that they release a version with a conforming dependency specifiers. Discussion can be found at https://github.com/pypa/pip/issues/12063\u001b[0m\u001b[33m\n",
      "\u001b[0mRequirement already satisfied: gensim in /Users/pierreportal/anaconda3/lib/python3.11/site-packages (4.3.2)\n",
      "Requirement already satisfied: numpy>=1.18.5 in /Users/pierreportal/anaconda3/lib/python3.11/site-packages (from gensim) (1.24.3)\n",
      "Requirement already satisfied: scipy>=1.7.0 in /Users/pierreportal/anaconda3/lib/python3.11/site-packages (from gensim) (1.9.3)\n",
      "Requirement already satisfied: smart-open>=1.8.1 in /Users/pierreportal/anaconda3/lib/python3.11/site-packages (from gensim) (5.2.1)\n",
      "\u001b[33mDEPRECATION: torchsde 0.2.5 has a non-standard dependency specifier numpy>=1.19.*; python_version >= \"3.7\". pip 23.3 will enforce this behaviour change. A possible replacement is to upgrade to a newer version of torchsde or contact the author to suggest that they release a version with a conforming dependency specifiers. Discussion can be found at https://github.com/pypa/pip/issues/12063\u001b[0m\u001b[33m\n",
      "\u001b[0m"
     ]
    }
   ],
   "source": [
    "!python3 -m pip install nltk scikit-learn\n",
    "!python3 -m pip install --upgrade gensim"
   ]
  },
  {
   "cell_type": "markdown",
   "id": "221cf520-f85c-4740-8d05-120ab1b4d73a",
   "metadata": {},
   "source": [
    "## Load data"
   ]
  },
  {
   "cell_type": "code",
   "execution_count": 3,
   "id": "202b380e-56f3-48a6-8b1e-43cad22bf581",
   "metadata": {
    "tags": []
   },
   "outputs": [
    {
     "name": "stdout",
     "output_type": "stream",
     "text": [
      "dataset size: 133\n"
     ]
    }
   ],
   "source": [
    "import json\n",
    "import random\n",
    "\n",
    "with open('notes.json') as f:\n",
    "    notes = json.load(f)\n",
    "\n",
    "random.shuffle(notes)\n",
    "\n",
    "print(f\"dataset size: {len(notes)}\")"
   ]
  },
  {
   "cell_type": "markdown",
   "id": "30bd27b0-71d8-4b5a-b684-bee4191017c0",
   "metadata": {
    "tags": []
   },
   "source": [
    "## Preprocess text data"
   ]
  },
  {
   "cell_type": "code",
   "execution_count": 4,
   "id": "621bf1fe-b944-4297-ad95-b96a34b02642",
   "metadata": {
    "tags": []
   },
   "outputs": [
    {
     "name": "stdout",
     "output_type": "stream",
     "text": [
      "Initial note:\n",
      "CSS, or Cascading Style Sheets, is used to style and layout web pages. With CSS, you can control the color, font, size, and spacing of your content, as well as create animations and responsive designs.\n",
      "\n",
      "Preprocessed:\n",
      "['css', 'cascading', 'style', 'sheets', 'used', 'style', 'layout', 'web', 'pages', 'css', 'control', 'color', 'font', 'size', 'spacing', 'content', 'well', 'create', 'animations', 'responsive', 'designs']\n"
     ]
    },
    {
     "name": "stderr",
     "output_type": "stream",
     "text": [
      "[nltk_data] Downloading package punkt to\n",
      "[nltk_data]     /Users/pierreportal/nltk_data...\n",
      "[nltk_data]   Package punkt is already up-to-date!\n",
      "[nltk_data] Downloading package stopwords to\n",
      "[nltk_data]     /Users/pierreportal/nltk_data...\n",
      "[nltk_data]   Package stopwords is already up-to-date!\n"
     ]
    }
   ],
   "source": [
    "import numpy as np\n",
    "import nltk\n",
    "from nltk.corpus import stopwords\n",
    "from nltk.tokenize import word_tokenize\n",
    "import string\n",
    "\n",
    "nltk.download('punkt')\n",
    "nltk.download('stopwords')\n",
    "\n",
    "stop_words = set(stopwords.words('english'))\n",
    "\n",
    "def preprocess_text(text):\n",
    "    tokens = word_tokenize(text.lower())\n",
    "    tokens = [word for word in tokens if word.isalpha() and word not in stop_words]\n",
    "    return tokens\n",
    "\n",
    "print(f\"Initial note:\\n{notes[0]}\\n\\nPreprocessed:\\n{preprocess_text(notes[0])}\")"
   ]
  },
  {
   "cell_type": "code",
   "execution_count": 5,
   "id": "adfc64ee-c319-4d3a-9f54-17bee3bb9c91",
   "metadata": {
    "tags": []
   },
   "outputs": [],
   "source": [
    "from gensim.models.doc2vec import TaggedDocument\n",
    "\n",
    "processed_notes = [preprocess_text(note) for note in notes]\n",
    "\n",
    "tagged_data = [TaggedDocument(words=note, tags=[str(i)]) for i, note in enumerate(processed_notes)]"
   ]
  },
  {
   "cell_type": "code",
   "execution_count": 6,
   "id": "44c97796-f82b-4709-803a-744d7243d847",
   "metadata": {
    "tags": []
   },
   "outputs": [
    {
     "name": "stdout",
     "output_type": "stream",
     "text": [
      "TaggedDocument<['css', 'cascading', 'style', 'sheets', 'used', 'style', 'layout', 'web', 'pages', 'css', 'control', 'color', 'font', 'size', 'spacing', 'content', 'well', 'create', 'animations', 'responsive', 'designs'], ['0']>\n"
     ]
    }
   ],
   "source": [
    "print(tagged_data[0])"
   ]
  },
  {
   "cell_type": "markdown",
   "id": "07eda202-2347-48a3-a617-b667d1fa4721",
   "metadata": {},
   "source": [
    "## Load and train the Doc2Vec model"
   ]
  },
  {
   "cell_type": "code",
   "execution_count": 7,
   "id": "8d4d940c-1ead-45c1-b20d-82d9ce523f9b",
   "metadata": {
    "tags": []
   },
   "outputs": [],
   "source": [
    "from gensim.models import Doc2Vec\n",
    "\n",
    "vector_size=50\n",
    "min_count=1\n",
    "epochs=100\n",
    "\n",
    "doc2vec_model = Doc2Vec(vector_size=vector_size, min_count=min_count, epochs=epochs)\n",
    "doc2vec_model.build_vocab(tagged_data)\n",
    "doc2vec_model.train(tagged_data, total_examples=doc2vec_model.corpus_count, epochs=doc2vec_model.epochs)"
   ]
  },
  {
   "cell_type": "code",
   "execution_count": 8,
   "id": "394d9a92-7f37-407b-8e03-a2822e3e13fa",
   "metadata": {
    "tags": []
   },
   "outputs": [
    {
     "data": {
      "text/plain": [
       "array([-0.23227298, -0.42349648, -1.1672676 , -1.2042933 , -0.67587185,\n",
       "       -0.08651315, -0.5981781 ,  0.8051116 , -1.07028   , -0.49018273,\n",
       "       -0.15361914,  0.4256212 , -0.21386336, -0.05419894, -0.05819813,\n",
       "        0.19073927, -0.09450651,  0.02434525, -0.6725981 , -0.08202314,\n",
       "       -0.30272874,  0.48266503,  0.93410826, -0.22218294,  0.8970139 ,\n",
       "       -0.20032363,  0.36939573, -1.1179026 , -0.6315549 ,  0.05607717,\n",
       "        0.31177002,  0.8742289 , -0.7580774 ,  0.5135251 , -0.6436543 ,\n",
       "       -0.18857124,  0.15670452, -0.6868353 ,  0.8054198 ,  0.5597987 ,\n",
       "        1.8088735 ,  0.16758275,  0.31993586, -0.7919981 ,  0.40988183,\n",
       "       -0.2904083 , -0.29570135,  0.45632327,  0.76896226,  0.21824268],\n",
       "      dtype=float32)"
      ]
     },
     "execution_count": 8,
     "metadata": {},
     "output_type": "execute_result"
    }
   ],
   "source": [
    "note_vectors = [doc2vec_model.infer_vector(note) for note in processed_notes]\n",
    "note_vectors[0]"
   ]
  },
  {
   "cell_type": "markdown",
   "id": "22103520-16a0-4747-b86f-5ccb2bdcca62",
   "metadata": {},
   "source": [
    "## Fit the vectors to the NearestNeighbors model\n",
    "\n",
    "**n_jobs** *int, default=None*<br>\n",
    "The number of parallel jobs to run for neighbors search.<br>\n",
    "**None** means 1 unless in a joblib.parallel_backend context.<br> \n",
    "**-1** means using all processors.\n",
    "\n",
    "**p** *float (positive), default=2*<br>\n",
    "Parameter for the Minkowski metric from sklearn.metrics.pairwise.pairwise_distances.<br>\n",
    "When p = 1, this is equivalent to using manhattan_distance (l1), and euclidean_distance (l2)<br>\n",
    "for p = 2. For arbitrary p, minkowski_distance (l_p) is used.\n",
    "\n",
    "**radius** *float, default=1.0*<br>\n",
    "Range of parameter space to use by default for radius_neighbors queries.<br>\n",
    "`radius_neighbors queries`: Find the neighbors within a given radius of a point or points.\n",
    "Return the indices and distances of each point from the dataset lying in a ball with size radius \n",
    "around the points of the query array. Points lying on the boundary are included in the results.\n",
    "The result points are not necessarily sorted by distance to their query point.\n",
    "\n",
    "**algorithm** *{‘auto’, ‘ball_tree’, ‘kd_tree’, ‘brute’}, default=’auto’*<br>\n",
    "Algorithm used to compute the nearest neighbors:<br>\n",
    "‘ball_tree’ will use BallTree<br>\n",
    "‘kd_tree’ will use KDTree<br>\n",
    "‘brute’ will use a brute-force search.<br>\n",
    "‘auto’ will attempt to decide the most appropriate algorithm based on the values passed to fit method."
   ]
  },
  {
   "cell_type": "code",
   "execution_count": 9,
   "id": "6f768ef9-ead9-41fb-a5c7-ea795e841e07",
   "metadata": {
    "tags": []
   },
   "outputs": [
    {
     "name": "stdout",
     "output_type": "stream",
     "text": [
      "For a reference note X, retrieve the 4 most similar notes.\n",
      "\n",
      "Algorithm used: auto\n",
      "Metric: minkowski\n",
      "\n",
      "\n",
      "**Note reference**:\n",
      "CSS, or Cascading Style Sheets, is used to style and layout web pages. With CSS,...\n",
      "\n",
      "**Similar notes:**\n",
      " --> CSS Grid is a powerful layout system that allows you to create two-dimensional l...\n",
      " --> Flexbox is a CSS layout module that provides an easier and more efficient way to...\n",
      " --> HTML, or HyperText Markup Language, is the foundation of web development. It pro...\n",
      " --> Responsive web design ensures that web pages look good on all devices. This is a...\n",
      "\n",
      "\n",
      "**Note reference**:\n",
      "Essential skills for software engineers, career paths (like front-end, back-end,...\n",
      "\n",
      "**Similar notes:**\n",
      " --> Ethical considerations in software development, including privacy, security, acc...\n",
      " --> An overview of software engineering principles, methodologies, and practices....\n",
      " --> Considerations for developing software for IoT devices, including connectivity, ...\n",
      " --> Explaining the traditional Waterfall model and its sequential approach to softwa...\n",
      "\n",
      "\n",
      "**Note reference**:\n",
      "Code reviews involve examining code for bugs, readability, maintainability, and ...\n",
      "\n",
      "**Similar notes:**\n",
      " --> Guidelines for conducting effective code reviews, including tips for providing c...\n",
      " --> Key metrics and practices for assessing and improving code quality, including co...\n",
      " --> Tools and IDEs (Integrated Development Environments) facilitate software develop...\n",
      " --> CI practices involve regularly integrating code changes into a shared repository...\n",
      "\n",
      "\n",
      "**Note reference**:\n",
      "SOA is an architectural pattern where software components are designed to commun...\n",
      "\n",
      "**Similar notes:**\n",
      " --> SOA is a design pattern where software components are designed to communicate vi...\n",
      " --> Exploring the microservices architectural style, where applications are built as...\n",
      " --> Overview of cloud computing services (like AWS, Azure, Google Cloud) and SaaS ap...\n",
      " --> Considerations for developing software for IoT devices, including connectivity, ...\n"
     ]
    }
   ],
   "source": [
    "from sklearn.neighbors import NearestNeighbors\n",
    "\n",
    "n_neighbors=5\n",
    "radius=0.4\n",
    "algorithm='auto' #(default)\n",
    "metric='minkowski' #(default)\n",
    "p=2\n",
    "\n",
    "def evaluate(vectors, configs):\n",
    "    algorithm, metric = configs\n",
    "    \n",
    "    X = np.array(vectors)\n",
    "\n",
    "    \n",
    "    nn_model = NearestNeighbors(\n",
    "\n",
    "        n_neighbors = n_neighbors, \n",
    "        radius      = radius, \n",
    "        algorithm   = algorithm,\n",
    "        metric      = metric\n",
    "\n",
    "    ).fit(X)\n",
    "\n",
    "    distances, indices = nn_model.kneighbors(X)\n",
    "\n",
    "    print(f\"For a reference note X, retrieve the {n_neighbors-1} most similar notes.\")\n",
    "    print(f\"\\nAlgorithm used: {algorithm}\\nMetric: {metric}\")\n",
    "\n",
    "    for i, note in enumerate(notes[:4]):\n",
    "        print(f\"\\n\\n**Note reference**:\\n{note[:80]}...\\n\\n**Similar notes:**\")\n",
    "        for j in indices[i]:\n",
    "            if i != j:  # Skip the note itself\n",
    "                print(f\" --> {notes[j][:80]}...\")\n",
    "    return nn_model\n",
    "                \n",
    "nn_model1 = evaluate(note_vectors,[algorithm, metric])"
   ]
  },
  {
   "cell_type": "markdown",
   "id": "023f5292-15b2-404d-a868-a14580b00203",
   "metadata": {},
   "source": [
    "## Using the `cosine` metric seems to give better results"
   ]
  },
  {
   "cell_type": "code",
   "execution_count": 10,
   "id": "c5605f55-f5be-4c1b-aaa7-5d4cc5ea6c19",
   "metadata": {
    "tags": []
   },
   "outputs": [
    {
     "name": "stdout",
     "output_type": "stream",
     "text": [
      "For a reference note X, retrieve the 4 most similar notes.\n",
      "\n",
      "Algorithm used: auto\n",
      "Metric: cosine\n",
      "\n",
      "\n",
      "**Note reference**:\n",
      "CSS, or Cascading Style Sheets, is used to style and layout web pages. With CSS,...\n",
      "\n",
      "**Similar notes:**\n",
      " --> CSS Grid is a powerful layout system that allows you to create two-dimensional l...\n",
      " --> Flexbox is a CSS layout module that provides an easier and more efficient way to...\n",
      " --> Bootstrap is a popular front-end framework for developing responsive and mobile-...\n",
      " --> HTML, or HyperText Markup Language, is the foundation of web development. It pro...\n",
      "\n",
      "\n",
      "**Note reference**:\n",
      "Essential skills for software engineers, career paths (like front-end, back-end,...\n",
      "\n",
      "**Similar notes:**\n",
      " --> Tips and strategies for preparing for software engineering interviews, including...\n",
      " --> Challenges and strategies for software engineering in startup environments, incl...\n",
      " --> Guidance on building a successful career in software engineering, including cert...\n",
      " --> Introduction to blockchain technology and its impact on software development, in...\n",
      "\n",
      "\n",
      "**Note reference**:\n",
      "Code reviews involve examining code for bugs, readability, maintainability, and ...\n",
      "\n",
      "**Similar notes:**\n",
      " --> Guidelines for conducting effective code reviews, including tips for providing c...\n",
      " --> Key metrics and practices for assessing and improving code quality, including co...\n",
      " --> Strategies for maintaining and refactoring software to improve code quality, enh...\n",
      " --> CI practices involve regularly integrating code changes into a shared repository...\n",
      "\n",
      "\n",
      "**Note reference**:\n",
      "SOA is an architectural pattern where software components are designed to commun...\n",
      "\n",
      "**Similar notes:**\n",
      " --> SOA is a design pattern where software components are designed to communicate vi...\n",
      " --> Exploring the microservices architectural style, where applications are built as...\n",
      " --> Microservices is an architectural style that structures an application as a coll...\n",
      " --> Distributed systems are collections of independent computers that appear to user...\n"
     ]
    }
   ],
   "source": [
    "nn_model2 = evaluate(note_vectors, ['auto', 'cosine'])"
   ]
  },
  {
   "cell_type": "markdown",
   "id": "a90b84ff-5400-4ec6-9b31-2dafa1e8e8d3",
   "metadata": {
    "tags": []
   },
   "source": [
    "## The following script had been used to compare different metrics:"
   ]
  },
  {
   "cell_type": "markdown",
   "id": "ce325412-7396-434d-8d8f-1846150e4a17",
   "metadata": {
    "tags": []
   },
   "source": [
    "```python\n",
    "\n",
    "metrics = [\n",
    "    'minkowski'\n",
    "    'cityblock',\n",
    "    'cosine',\n",
    "    'euclidean',\n",
    "    'l1',\n",
    "    'l2',\n",
    "    'manhattan',\n",
    "    'nan_euclidean'\n",
    "]\n",
    "\n",
    "def compare(metrics):\n",
    "    m1, m2 = metrics\n",
    "    \n",
    "    nbrs1 = NearestNeighbors(\n",
    "\n",
    "        n_neighbors = n_neighbors, \n",
    "        radius      = radius, \n",
    "        algorithm   = algorithm,\n",
    "        metric      = m1\n",
    "\n",
    "    ).fit(X)\n",
    "    \n",
    "    \n",
    "    nbrs2 = NearestNeighbors(\n",
    "\n",
    "        n_neighbors = n_neighbors, \n",
    "        radius      = radius, \n",
    "        algorithm   = algorithm,\n",
    "        metric      = m2\n",
    "\n",
    "    ).fit(X)\n",
    "\n",
    "    distances1, indices1 = nbrs1.kneighbors(X)\n",
    "    distances2, indices2 = nbrs2.kneighbors(X)\n",
    "    \n",
    "    results = {}\n",
    "    results[m1] = {}\n",
    "    results[m2] = {}\n",
    "\n",
    "    for i, note in enumerate(notes[:4]):\n",
    "        key = note\n",
    "        results[m1][key] = []\n",
    "        results[m2][key] = []\n",
    "        \n",
    "        for a, b in zip(indices1[i], indices2[i]):\n",
    "            if i != a:  # Skip the note itself\n",
    "                results[m1][key].append(notes[a])\n",
    "                results[m2][key].append(notes[b])\n",
    "                \n",
    "                \n",
    "    return results  \n",
    "\n",
    "tests = [['minkowski', x] for x in metrics]\n",
    "\n",
    "for pair in tests:\n",
    "    res = compare(pair)\n",
    "\n",
    "    A, B = res\n",
    "\n",
    "    substr = 80\n",
    "\n",
    "    for ref1, ref2 in zip(res[A], res[B]):\n",
    "\n",
    "        print(f\"\\n{ref1}\\n\")\n",
    "\n",
    "        for v1, v2 in zip(sorted(res[A][ref1]), sorted(res[B][ref1])):\n",
    "            print(f\"---\\n{A}: {v1[:substr]}...\\n{B}: {v2[:substr]}...\")\n",
    "```"
   ]
  },
  {
   "cell_type": "markdown",
   "id": "4a966cab-03ee-4423-9943-aa20827f690c",
   "metadata": {},
   "source": [
    "## Now let's try to retrieve similar notes for a new entry using the pre trained models"
   ]
  },
  {
   "cell_type": "code",
   "execution_count": 44,
   "id": "6773ea20-c632-4616-8b80-c590187645cf",
   "metadata": {
    "tags": []
   },
   "outputs": [],
   "source": [
    "def find_n_similar(note, n, threshold=1.0):\n",
    "    processed_note = preprocess_text(note)\n",
    "    note_vectors = doc2vec_model.infer_vector(processed_note)\n",
    "    distances, indices = nn_model2.kneighbors([note_vectors], n_neighbors=n)\n",
    "    \n",
    "    filtered_indices = [\n",
    "        indices[0][x] \n",
    "        for x in range(n) \n",
    "        if distances[0][x] <= threshold\n",
    "    ]\n",
    "    \n",
    "    return [notes[i] for i in filtered_indices]"
   ]
  },
  {
   "cell_type": "code",
   "execution_count": 45,
   "id": "83c8a9b0-d01b-4287-a398-ed064cbb2e3f",
   "metadata": {
    "tags": []
   },
   "outputs": [
    {
     "name": "stdout",
     "output_type": "stream",
     "text": [
      "-> TypeScript is a typed superset of JavaScript that compiles to plain JavaScript. ...\n",
      "-> Webpack is a module bundler for JavaScript applications. It takes modules with d...\n",
      "-> Next.js is a React framework for server-side rendering and static site generatio...\n",
      "-> Gatsby.js is a React-based framework for building static websites. It combines t...\n"
     ]
    }
   ],
   "source": [
    "new_note = \"TypeScript is a statically typed superset of JavaScript that adds optional static types, interfaces, and other powerful features to the language. Developed and maintained by Microsoft, TypeScript aims to improve the developer experience by catching errors early through static type checking, which can prevent many common JavaScript runtime errors. TypeScript code compiles down to plain JavaScript, ensuring compatibility with any environment that runs JavaScript, including browsers and Node.js. This makes TypeScript a practical choice for large-scale applications and teams that require robust, maintainable codebases. One of the key features of TypeScript is its static typing. By explicitly defining the types of variables, function parameters, and return values, developers can catch type-related errors at compile time, rather than at runtime. This leads to more predictable and reliable code. TypeScript's type system is quite flexible, supporting various types such as unions, intersections, and generics, which allow for sophisticated type expressions.\"\n",
    "\n",
    "similar_notes = find_n_similar(new_note, n=4)\n",
    "\n",
    "for i in similar_notes:\n",
    "    print(f\"-> {i[:80]}...\")    "
   ]
  },
  {
   "cell_type": "markdown",
   "id": "189bf4a9-c962-4247-80b3-9108accfdce9",
   "metadata": {},
   "source": [
    "## For markdown formatted notes"
   ]
  },
  {
   "cell_type": "code",
   "execution_count": 46,
   "id": "3ab3c638-17bd-4bd5-993a-e2111fd5d66d",
   "metadata": {
    "tags": []
   },
   "outputs": [
    {
     "name": "stdout",
     "output_type": "stream",
     "text": [
      "-> Webpack is a module bundler for JavaScript applications. It takes modules with d...\n",
      "-> ES6, also known as ECMAScript 2015, introduced new features to JavaScript, inclu...\n",
      "-> TypeScript is a typed superset of JavaScript that compiles to plain JavaScript. ...\n",
      "-> Next.js is a React framework for server-side rendering and static site generatio...\n"
     ]
    }
   ],
   "source": [
    "import markdown\n",
    "    \n",
    "with open('webpack.md', 'r') as f:\n",
    "    markdown_string = f.read()\n",
    "\n",
    "similar_notes = find_n_similar(markdown_string, n=4)\n",
    "\n",
    "for i in similar_notes:\n",
    "    print(f\"-> {i[:80]}...\")"
   ]
  },
  {
   "cell_type": "markdown",
   "id": "f2a70a6f-395b-40c9-8919-ecff3c8c68a0",
   "metadata": {
    "tags": []
   },
   "source": [
    "### Here is an example of what the output looks like when we don't have enough data related to the reference subject. We still have the most similar notes but quite out of context"
   ]
  },
  {
   "cell_type": "code",
   "execution_count": 14,
   "id": "7cda2ef1-9704-46e3-9c61-30f754cb62fd",
   "metadata": {
    "tags": []
   },
   "outputs": [
    {
     "name": "stdout",
     "output_type": "stream",
     "text": [
      "[46, 10, 119, 69]\n",
      "-> React Hook Form is a library that helps you build and manage forms in React. It ...\n",
      "-> JavaScript is a programming language that allows you to create dynamically updat...\n",
      "-> TypeScript is a typed superset of JavaScript that compiles to plain JavaScript. ...\n",
      "-> ES6, also known as ECMAScript 2015, introduced new features to JavaScript, inclu...\n"
     ]
    }
   ],
   "source": [
    "with open('scala_note.md', 'r') as f:\n",
    "    scala_note_markdown_string = f.read()\n",
    "\n",
    "similar_notes = find_n_similar(scala_note_markdown_string, n=4)\n",
    "\n",
    "for i in similar_notes:\n",
    "    print(f\"-> {i[:80]}...\")"
   ]
  },
  {
   "cell_type": "markdown",
   "id": "97dd8955-4548-40c4-8d53-5eb9ea2a6043",
   "metadata": {},
   "source": [
    "### We can then introduce a threshold to the distance"
   ]
  },
  {
   "cell_type": "code",
   "execution_count": 15,
   "id": "edbde6cf-9a4c-4671-82fb-7cbabe2e9789",
   "metadata": {
    "tags": []
   },
   "outputs": [
    {
     "name": "stdout",
     "output_type": "stream",
     "text": [
      "[]\n"
     ]
    }
   ],
   "source": [
    "similar_notes = find_n_similar(scala_note_markdown_string, n=4, threshold=0.1)\n",
    "\n",
    "for i in similar_notes:\n",
    "    print(f\"-> {i[:80]}...\")"
   ]
  },
  {
   "cell_type": "markdown",
   "id": "39917fb5-7cfb-4f14-aed7-cf697d2c1283",
   "metadata": {},
   "source": [
    "## TF-IDF\n",
    "\n",
    "**TF-IDF (Term Frequency-Inverse Document Frequency)** is a statistical measure used to evaluate how important a word is to a document in a collection (or corpus) of documents. It is often used in information retrieval, text mining, and as a weighting factor in machine learning applications."
   ]
  },
  {
   "cell_type": "markdown",
   "id": "a343e453-22ec-4633-9eb8-7c86d32680d4",
   "metadata": {
    "tags": []
   },
   "source": [
    "#### Components of TF-IDF\n",
    "\n",
    "1. **Term Frequency (TF)**:\n",
    "   - **Definition**: The number of times a term appears in a document.\n",
    "   - **Formula**: \n",
    "     $$\n",
    "     \\text{TF}(t, d) = \\frac{\\text{Number of times term } t \\text{ appears in document } d}{\\text{Total number of terms in document } d}\n",
    "     $$\n",
    "\n",
    "2. **Inverse Document Frequency (IDF)**:\n",
    "   - **Definition**: A measure of how much information the word provides, i.e., whether the term is common or rare across all documents.\n",
    "   - **Formula**: \n",
    "     $$\n",
    "     \\text{IDF}(t) = \\log \\left( \\frac{\\text{Total number of documents}}{\\text{Number of documents containing term } t} \\right)\n",
    "     $$\n",
    "\n",
    "3. **TF-IDF Score**:\n",
    "   - **Definition**: The product of TF and IDF, giving a weight to each term in a document based on its frequency and how common or rare it is across the corpus.\n",
    "   - **Formula**: \n",
    "     $$\n",
    "     \\text{TF-IDF}(t, d) = \\text{TF}(t, d) \\times \\text{IDF}(t)\n",
    "     $$\n",
    "\n",
    "#### Steps to Calculate TF-IDF\n",
    "\n",
    "1. **Calculate Term Frequency (TF)** for each term in each document.\n",
    "2. **Calculate Inverse Document Frequency (IDF)** for each term across the entire corpus.\n",
    "3. **Compute TF-IDF** by multiplying TF and IDF values for each term in each document."
   ]
  },
  {
   "cell_type": "code",
   "execution_count": 19,
   "id": "6aca0a15-b5ea-4e5e-a59c-3afffd7f16d9",
   "metadata": {
    "tags": []
   },
   "outputs": [],
   "source": [
    "from sklearn.feature_extraction.text import TfidfVectorizer\n",
    "\n",
    "tfidf_vectorizer = TfidfVectorizer()\n",
    "tfidf_vectors = tfidf_vectorizer.fit_transform(notes)"
   ]
  },
  {
   "cell_type": "code",
   "execution_count": 20,
   "id": "4a26bc3c-a38b-489c-903e-84679e4882c7",
   "metadata": {
    "tags": []
   },
   "outputs": [
    {
     "name": "stdout",
     "output_type": "stream",
     "text": [
      "For a reference note X, retrieve the 4 most similar notes.\n",
      "\n",
      "Algorithm used: auto\n",
      "Metric: cosine\n",
      "\n",
      "\n",
      "**Note reference**:\n",
      "CSS, or Cascading Style Sheets, is used to style and layout web pages. With CSS,...\n",
      "\n",
      "**Similar notes:**\n",
      " --> CSS Grid is a powerful layout system that allows you to create two-dimensional l...\n",
      " --> Flexbox is a CSS layout module that provides an easier and more efficient way to...\n",
      " --> Responsive web design ensures that web pages look good on all devices. This is a...\n",
      " --> HTML, or HyperText Markup Language, is the foundation of web development. It pro...\n",
      "\n",
      "\n",
      "**Note reference**:\n",
      "Essential skills for software engineers, career paths (like front-end, back-end,...\n",
      "\n",
      "**Similar notes:**\n",
      " --> Tips and strategies for preparing for software engineering interviews, including...\n",
      " --> Guidance on building a successful career in software engineering, including cert...\n",
      " --> Challenges and strategies for software engineering in startup environments, incl...\n",
      " --> Careers in software engineering offer opportunities to work on diverse projects,...\n",
      "\n",
      "\n",
      "**Note reference**:\n",
      "Code reviews involve examining code for bugs, readability, maintainability, and ...\n",
      "\n",
      "**Similar notes:**\n",
      " --> Guidelines for conducting effective code reviews, including tips for providing c...\n",
      " --> Key metrics and practices for assessing and improving code quality, including co...\n",
      " --> CI practices involve regularly integrating code changes into a shared repository...\n",
      " --> Strategies for maintaining and refactoring software to improve code quality, enh...\n",
      "\n",
      "\n",
      "**Note reference**:\n",
      "SOA is an architectural pattern where software components are designed to commun...\n",
      "\n",
      "**Similar notes:**\n",
      " --> SOA is a design pattern where software components are designed to communicate vi...\n",
      " --> Exploring the microservices architectural style, where applications are built as...\n",
      " --> Microservices is an architectural style that structures an application as a coll...\n",
      " --> Distributed systems are collections of independent computers that appear to user...\n"
     ]
    }
   ],
   "source": [
    "combined_vectors = np.hstack((note_vectors, tfidf_vectors.toarray()))\n",
    "\n",
    "tfidf_knn_model = evaluate(combined_vectors,['auto', 'cosine'])"
   ]
  },
  {
   "cell_type": "code",
   "execution_count": 41,
   "id": "ea098a37-3abf-4d52-b45b-f8c1d2adc351",
   "metadata": {
    "tags": []
   },
   "outputs": [
    {
     "name": "stdout",
     "output_type": "stream",
     "text": [
      "-> Node.js is a JavaScript runtime built on Chrome's V8 engine. It allows you to ru...\n",
      "-> Babel is a JavaScript compiler that allows you to use next-generation JavaScript...\n",
      "-> Apollo Client is a state management library for JavaScript apps. It enables you ...\n"
     ]
    }
   ],
   "source": [
    "new_note = \"Node.js is a cross-platform, open-source JavaScript runtime environment that can run on Windows, Linux, Unix, macOS, and more. Node.js runs on the V8 JavaScript engine, and executes JavaScript code outside a web browser. Node.js lets developers use JavaScript to write command line tools and for server-side scripting.\"\n",
    "processed_note = preprocess_text(new_note)\n",
    "d2v_vector = doc2vec_model.infer_vector(processed_note)\n",
    "tfidf_vector = tfidf_vectorizer.transform([new_note]).toarray()\n",
    "combined_vector = np.hstack((d2v_vector, tfidf_vector[0]))\n",
    "distances, indices = tfidf_knn_model.kneighbors([combined_vector], n_neighbors=3)\n",
    "\n",
    "sims = [notes[i] for i in indices.flatten()]\n",
    "\n",
    "for i in sims:\n",
    "    print(f\"-> {i[:80]}...\")"
   ]
  },
  {
   "cell_type": "code",
   "execution_count": null,
   "id": "b6725139-c106-489c-b093-9c8d0b167bbb",
   "metadata": {},
   "outputs": [],
   "source": []
  }
 ],
 "metadata": {
  "kernelspec": {
   "display_name": "Python 3 (ipykernel)",
   "language": "python",
   "name": "python3"
  },
  "language_info": {
   "codemirror_mode": {
    "name": "ipython",
    "version": 3
   },
   "file_extension": ".py",
   "mimetype": "text/x-python",
   "name": "python",
   "nbconvert_exporter": "python",
   "pygments_lexer": "ipython3",
   "version": "3.11.5"
  }
 },
 "nbformat": 4,
 "nbformat_minor": 5
}
