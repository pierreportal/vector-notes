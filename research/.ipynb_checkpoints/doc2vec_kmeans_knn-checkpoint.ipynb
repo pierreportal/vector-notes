{
 "cells": [
  {
   "cell_type": "markdown",
   "id": "6badd711-6055-4a40-90fd-d5e65c0a80c4",
   "metadata": {},
   "source": [
    "# Vectorization and clusterization of notes using Doc2Vec, TF-IDF and KNN algorithms"
   ]
  },
  {
   "cell_type": "markdown",
   "id": "2fa3e9dc-6b57-4518-ae65-f8b77e515959",
   "metadata": {},
   "source": [
    "## Create and activate Python environment"
   ]
  },
  {
   "cell_type": "code",
   "execution_count": 1,
   "id": "7f6c1412-a425-4ed6-9c7f-4f71af80c71a",
   "metadata": {
    "tags": []
   },
   "outputs": [],
   "source": [
    "!python3 -m venv ./venv\n",
    "!source ./venv/bin/activate"
   ]
  },
  {
   "cell_type": "markdown",
   "id": "1c9f5842-f88a-4e5e-b99c-a1617dff3df7",
   "metadata": {},
   "source": [
    "## Install packages"
   ]
  },
  {
   "cell_type": "code",
   "execution_count": 2,
   "id": "414b426f-c963-4f65-8678-3a36127166ee",
   "metadata": {
    "tags": []
   },
   "outputs": [
    {
     "name": "stdout",
     "output_type": "stream",
     "text": [
      "Requirement already satisfied: nltk in /Users/pierreportal/anaconda3/lib/python3.11/site-packages (3.8.1)\n",
      "Requirement already satisfied: scikit-learn in /Users/pierreportal/anaconda3/lib/python3.11/site-packages (1.3.0)\n",
      "Requirement already satisfied: click in /Users/pierreportal/anaconda3/lib/python3.11/site-packages (from nltk) (8.0.4)\n",
      "Requirement already satisfied: joblib in /Users/pierreportal/anaconda3/lib/python3.11/site-packages (from nltk) (1.2.0)\n",
      "Requirement already satisfied: regex>=2021.8.3 in /Users/pierreportal/anaconda3/lib/python3.11/site-packages (from nltk) (2022.7.9)\n",
      "Requirement already satisfied: tqdm in /Users/pierreportal/anaconda3/lib/python3.11/site-packages (from nltk) (4.64.1)\n",
      "Requirement already satisfied: numpy>=1.17.3 in /Users/pierreportal/anaconda3/lib/python3.11/site-packages (from scikit-learn) (1.24.3)\n",
      "Requirement already satisfied: scipy>=1.5.0 in /Users/pierreportal/anaconda3/lib/python3.11/site-packages (from scikit-learn) (1.9.3)\n",
      "Requirement already satisfied: threadpoolctl>=2.0.0 in /Users/pierreportal/anaconda3/lib/python3.11/site-packages (from scikit-learn) (2.2.0)\n",
      "\u001b[33mDEPRECATION: torchsde 0.2.5 has a non-standard dependency specifier numpy>=1.19.*; python_version >= \"3.7\". pip 23.3 will enforce this behaviour change. A possible replacement is to upgrade to a newer version of torchsde or contact the author to suggest that they release a version with a conforming dependency specifiers. Discussion can be found at https://github.com/pypa/pip/issues/12063\u001b[0m\u001b[33m\n",
      "\u001b[0mRequirement already satisfied: gensim in /Users/pierreportal/anaconda3/lib/python3.11/site-packages (4.3.2)\n",
      "Requirement already satisfied: numpy>=1.18.5 in /Users/pierreportal/anaconda3/lib/python3.11/site-packages (from gensim) (1.24.3)\n",
      "Requirement already satisfied: scipy>=1.7.0 in /Users/pierreportal/anaconda3/lib/python3.11/site-packages (from gensim) (1.9.3)\n",
      "Requirement already satisfied: smart-open>=1.8.1 in /Users/pierreportal/anaconda3/lib/python3.11/site-packages (from gensim) (5.2.1)\n",
      "\u001b[33mDEPRECATION: torchsde 0.2.5 has a non-standard dependency specifier numpy>=1.19.*; python_version >= \"3.7\". pip 23.3 will enforce this behaviour change. A possible replacement is to upgrade to a newer version of torchsde or contact the author to suggest that they release a version with a conforming dependency specifiers. Discussion can be found at https://github.com/pypa/pip/issues/12063\u001b[0m\u001b[33m\n",
      "\u001b[0m"
     ]
    }
   ],
   "source": [
    "!python3 -m pip install nltk scikit-learn\n",
    "!python3 -m pip install --upgrade gensim"
   ]
  },
  {
   "cell_type": "markdown",
   "id": "221cf520-f85c-4740-8d05-120ab1b4d73a",
   "metadata": {},
   "source": [
    "## Load data"
   ]
  },
  {
   "cell_type": "code",
   "execution_count": 3,
   "id": "202b380e-56f3-48a6-8b1e-43cad22bf581",
   "metadata": {
    "tags": []
   },
   "outputs": [
    {
     "name": "stdout",
     "output_type": "stream",
     "text": [
      "dataset size: 133\n"
     ]
    }
   ],
   "source": [
    "import json\n",
    "import random\n",
    "\n",
    "with open('notes.json') as f:\n",
    "    notes = json.load(f)\n",
    "\n",
    "random.shuffle(notes)\n",
    "\n",
    "print(f\"dataset size: {len(notes)}\")"
   ]
  },
  {
   "cell_type": "markdown",
   "id": "30bd27b0-71d8-4b5a-b684-bee4191017c0",
   "metadata": {
    "tags": []
   },
   "source": [
    "## Preprocess text data"
   ]
  },
  {
   "cell_type": "code",
   "execution_count": 4,
   "id": "621bf1fe-b944-4297-ad95-b96a34b02642",
   "metadata": {
    "tags": []
   },
   "outputs": [
    {
     "name": "stdout",
     "output_type": "stream",
     "text": [
      "Initial note:\n",
      "JSON Web Tokens (JWT) are a compact, URL-safe means of representing claims to be transferred between two parties. They are commonly used for authentication and authorization in web applications.\n",
      "\n",
      "Preprocessed:\n",
      "['json', 'web', 'tokens', 'jwt', 'compact', 'means', 'representing', 'claims', 'transferred', 'two', 'parties', 'commonly', 'used', 'authentication', 'authorization', 'web', 'applications']\n"
     ]
    },
    {
     "name": "stderr",
     "output_type": "stream",
     "text": [
      "[nltk_data] Downloading package punkt to\n",
      "[nltk_data]     /Users/pierreportal/nltk_data...\n",
      "[nltk_data]   Package punkt is already up-to-date!\n",
      "[nltk_data] Downloading package stopwords to\n",
      "[nltk_data]     /Users/pierreportal/nltk_data...\n",
      "[nltk_data]   Package stopwords is already up-to-date!\n"
     ]
    }
   ],
   "source": [
    "import numpy as np\n",
    "import nltk\n",
    "from nltk.corpus import stopwords\n",
    "from nltk.tokenize import word_tokenize\n",
    "import string\n",
    "\n",
    "nltk.download('punkt')\n",
    "nltk.download('stopwords')\n",
    "\n",
    "stop_words = set(stopwords.words('english'))\n",
    "\n",
    "def preprocess_text(text):\n",
    "    tokens = word_tokenize(text.lower())\n",
    "    tokens = [word for word in tokens if word.isalpha() and word not in stop_words]\n",
    "    return tokens\n",
    "\n",
    "print(f\"Initial note:\\n{notes[0]}\\n\\nPreprocessed:\\n{preprocess_text(notes[0])}\")"
   ]
  },
  {
   "cell_type": "code",
   "execution_count": 5,
   "id": "adfc64ee-c319-4d3a-9f54-17bee3bb9c91",
   "metadata": {
    "tags": []
   },
   "outputs": [],
   "source": [
    "from gensim.models.doc2vec import TaggedDocument\n",
    "\n",
    "processed_notes = [preprocess_text(note) for note in notes]\n",
    "\n",
    "tagged_data = [TaggedDocument(words=note, tags=[str(i)]) for i, note in enumerate(processed_notes)]"
   ]
  },
  {
   "cell_type": "code",
   "execution_count": 6,
   "id": "44c97796-f82b-4709-803a-744d7243d847",
   "metadata": {
    "tags": []
   },
   "outputs": [
    {
     "name": "stdout",
     "output_type": "stream",
     "text": [
      "TaggedDocument<['json', 'web', 'tokens', 'jwt', 'compact', 'means', 'representing', 'claims', 'transferred', 'two', 'parties', 'commonly', 'used', 'authentication', 'authorization', 'web', 'applications'], ['0']>\n"
     ]
    }
   ],
   "source": [
    "print(tagged_data[0])"
   ]
  },
  {
   "cell_type": "markdown",
   "id": "07eda202-2347-48a3-a617-b667d1fa4721",
   "metadata": {},
   "source": [
    "## Load and train the Doc2Vec model"
   ]
  },
  {
   "cell_type": "code",
   "execution_count": 7,
   "id": "8d4d940c-1ead-45c1-b20d-82d9ce523f9b",
   "metadata": {
    "tags": []
   },
   "outputs": [],
   "source": [
    "from gensim.models import Doc2Vec\n",
    "\n",
    "vector_size=50\n",
    "min_count=1\n",
    "epochs=100\n",
    "\n",
    "doc2vec_model = Doc2Vec(vector_size=vector_size, min_count=min_count, epochs=epochs)\n",
    "doc2vec_model.build_vocab(tagged_data)\n",
    "doc2vec_model.train(tagged_data, total_examples=doc2vec_model.corpus_count, epochs=doc2vec_model.epochs)"
   ]
  },
  {
   "cell_type": "code",
   "execution_count": 8,
   "id": "394d9a92-7f37-407b-8e03-a2822e3e13fa",
   "metadata": {
    "tags": []
   },
   "outputs": [
    {
     "data": {
      "text/plain": [
       "array([-0.3574874 , -0.04896715, -0.19929539,  0.25255084, -0.3358077 ,\n",
       "       -0.23525804, -0.19356723, -0.00883638, -1.0396907 , -0.20819733,\n",
       "       -0.23664609, -0.21376269, -0.2304965 , -0.07913554, -0.05454179,\n",
       "       -0.21947141,  0.6132432 , -0.1554605 , -0.6515211 , -0.2790046 ,\n",
       "       -0.21755606,  0.13089448,  0.21050881, -0.33144477,  0.17560759,\n",
       "       -0.37724534, -0.05441528, -0.32884297, -0.5300656 , -0.00207941,\n",
       "        0.5489256 ,  0.51481676, -0.3386843 ,  0.6818777 , -0.6457552 ,\n",
       "        0.38804582,  0.17275125, -0.53416854,  0.08697488, -0.49688873,\n",
       "        0.9132737 , -0.06960487, -0.40571678, -0.09020646,  0.69597435,\n",
       "        0.07026599, -0.11673794, -0.53771967,  0.55781746, -0.22779465],\n",
       "      dtype=float32)"
      ]
     },
     "execution_count": 8,
     "metadata": {},
     "output_type": "execute_result"
    }
   ],
   "source": [
    "note_vectors = [doc2vec_model.infer_vector(note) for note in processed_notes]\n",
    "note_vectors[0]"
   ]
  },
  {
   "cell_type": "markdown",
   "id": "22103520-16a0-4747-b86f-5ccb2bdcca62",
   "metadata": {},
   "source": [
    "## Fit the vectors to the NearestNeighbors model\n",
    "\n",
    "**n_jobs** *int, default=None*<br>\n",
    "The number of parallel jobs to run for neighbors search.<br>\n",
    "**None** means 1 unless in a joblib.parallel_backend context.<br> \n",
    "**-1** means using all processors.\n",
    "\n",
    "**p** *float (positive), default=2*<br>\n",
    "Parameter for the Minkowski metric from sklearn.metrics.pairwise.pairwise_distances.<br>\n",
    "When p = 1, this is equivalent to using manhattan_distance (l1), and euclidean_distance (l2)<br>\n",
    "for p = 2. For arbitrary p, minkowski_distance (l_p) is used.\n",
    "\n",
    "**radius** *float, default=1.0*<br>\n",
    "Range of parameter space to use by default for radius_neighbors queries.<br>\n",
    "`radius_neighbors queries`: Find the neighbors within a given radius of a point or points.\n",
    "Return the indices and distances of each point from the dataset lying in a ball with size radius \n",
    "around the points of the query array. Points lying on the boundary are included in the results.\n",
    "The result points are not necessarily sorted by distance to their query point.\n",
    "\n",
    "**algorithm** *{‘auto’, ‘ball_tree’, ‘kd_tree’, ‘brute’}, default=’auto’*<br>\n",
    "Algorithm used to compute the nearest neighbors:<br>\n",
    "‘ball_tree’ will use BallTree<br>\n",
    "‘kd_tree’ will use KDTree<br>\n",
    "‘brute’ will use a brute-force search.<br>\n",
    "‘auto’ will attempt to decide the most appropriate algorithm based on the values passed to fit method."
   ]
  },
  {
   "cell_type": "code",
   "execution_count": 9,
   "id": "6f768ef9-ead9-41fb-a5c7-ea795e841e07",
   "metadata": {
    "tags": []
   },
   "outputs": [
    {
     "name": "stdout",
     "output_type": "stream",
     "text": [
      "For a reference note X, retrieve the 4 most similar notes.\n",
      "\n",
      "Algorithm used: auto\n",
      "Metric: minkowski\n",
      "\n",
      "\n",
      "**Note reference**:\n",
      "JSON Web Tokens (JWT) are a compact, URL-safe means of representing claims to be...\n",
      "\n",
      "**Similar notes:**\n",
      " --> Gulp is a task runner for automating repetitive tasks in your development workfl...\n",
      " --> Concurrency is the ability of different parts of a program to execute independen...\n",
      " --> The role of ethical hacking in identifying and mitigating security vulnerabiliti...\n",
      " --> Introduction to Docker containers for packaging applications and their dependenc...\n",
      "\n",
      "\n",
      "**Note reference**:\n",
      "An overview of software engineering principles, methodologies, and practices....\n",
      "\n",
      "**Similar notes:**\n",
      " --> Essential skills for software engineers, career paths (like front-end, back-end,...\n",
      " --> Ethical considerations in software development, including privacy, security, acc...\n",
      " --> Challenges and best practices for remote work in software engineering, including...\n",
      " --> Real-world examples of successful software engineering projects, including chall...\n",
      "\n",
      "\n",
      "**Note reference**:\n",
      "Overview of SDLC phases, including planning, requirements gathering, design, dev...\n",
      "\n",
      "**Similar notes:**\n",
      " --> Requirements engineering involves gathering, documenting, and analyzing requirem...\n",
      " --> Software engineering is the systematic approach to the design, development, test...\n",
      " --> The Waterfall model is a linear sequential approach to software development, whe...\n",
      " --> SDLC is a process used by software teams to design, develop, and test high-quali...\n",
      "\n",
      "\n",
      "**Note reference**:\n",
      "Explaining the traditional Waterfall model and its sequential approach to softwa...\n",
      "\n",
      "**Similar notes:**\n",
      " --> Understanding the Agile methodology and its iterative approach to software devel...\n",
      " --> Challenges and best practices for remote work in software engineering, including...\n",
      " --> An overview of software engineering principles, methodologies, and practices....\n",
      " --> Essential skills for software engineers, career paths (like front-end, back-end,...\n"
     ]
    }
   ],
   "source": [
    "from sklearn.neighbors import NearestNeighbors\n",
    "\n",
    "n_neighbors=5\n",
    "radius=0.4\n",
    "algorithm='auto' #(default)\n",
    "metric='minkowski' #(default)\n",
    "p=2\n",
    "\n",
    "def evaluate(vectors, configs):\n",
    "    algorithm, metric = configs\n",
    "    \n",
    "    X = np.array(vectors)\n",
    "\n",
    "    \n",
    "    nn_model = NearestNeighbors(\n",
    "\n",
    "        n_neighbors = n_neighbors, \n",
    "        radius      = radius, \n",
    "        algorithm   = algorithm,\n",
    "        metric      = metric\n",
    "\n",
    "    ).fit(X)\n",
    "\n",
    "    distances, indices = nn_model.kneighbors(X)\n",
    "\n",
    "    print(f\"For a reference note X, retrieve the {n_neighbors-1} most similar notes.\")\n",
    "    print(f\"\\nAlgorithm used: {algorithm}\\nMetric: {metric}\")\n",
    "\n",
    "    for i, note in enumerate(notes[:4]):\n",
    "        print(f\"\\n\\n**Note reference**:\\n{note[:80]}...\\n\\n**Similar notes:**\")\n",
    "        for j in indices[i]:\n",
    "            if i != j:  # Skip the note itself\n",
    "                print(f\" --> {notes[j][:80]}...\")\n",
    "    return nn_model\n",
    "                \n",
    "nn_model1 = evaluate(note_vectors,[algorithm, metric])"
   ]
  },
  {
   "cell_type": "markdown",
   "id": "023f5292-15b2-404d-a868-a14580b00203",
   "metadata": {},
   "source": [
    "## Using the `cosine` metric seems to give better results"
   ]
  },
  {
   "cell_type": "code",
   "execution_count": 10,
   "id": "c5605f55-f5be-4c1b-aaa7-5d4cc5ea6c19",
   "metadata": {
    "tags": []
   },
   "outputs": [
    {
     "name": "stdout",
     "output_type": "stream",
     "text": [
      "For a reference note X, retrieve the 4 most similar notes.\n",
      "\n",
      "Algorithm used: auto\n",
      "Metric: cosine\n",
      "\n",
      "\n",
      "**Note reference**:\n",
      "JSON Web Tokens (JWT) are a compact, URL-safe means of representing claims to be...\n",
      "\n",
      "**Similar notes:**\n",
      " --> Gulp is a task runner for automating repetitive tasks in your development workfl...\n",
      " --> Introduction to Docker containers for packaging applications and their dependenc...\n",
      " --> Concurrency is the ability of different parts of a program to execute independen...\n",
      " --> The role of ethical hacking in identifying and mitigating security vulnerabiliti...\n",
      "\n",
      "\n",
      "**Note reference**:\n",
      "An overview of software engineering principles, methodologies, and practices....\n",
      "\n",
      "**Similar notes:**\n",
      " --> Tips and strategies for preparing for software engineering interviews, including...\n",
      " --> Best practices for leading software engineering teams, including communication, ...\n",
      " --> Real-world examples of successful software engineering projects, including chall...\n",
      " --> Challenges and strategies for software engineering in startup environments, incl...\n",
      "\n",
      "\n",
      "**Note reference**:\n",
      "Overview of SDLC phases, including planning, requirements gathering, design, dev...\n",
      "\n",
      "**Similar notes:**\n",
      " --> SDLC is a process used by software teams to design, develop, and test high-quali...\n",
      " --> Requirements engineering involves gathering, documenting, and analyzing requirem...\n",
      " --> The process of gathering, documenting, and managing requirements throughout the ...\n",
      " --> Software engineering is the systematic approach to the design, development, test...\n",
      "\n",
      "\n",
      "**Note reference**:\n",
      "Explaining the traditional Waterfall model and its sequential approach to softwa...\n",
      "\n",
      "**Similar notes:**\n",
      " --> Understanding the Agile methodology and its iterative approach to software devel...\n",
      " --> The Waterfall model is a linear sequential approach to software development, whe...\n",
      " --> CD is a software engineering approach where teams produce software in short cycl...\n",
      " --> Best practices for leading software engineering teams, including communication, ...\n"
     ]
    }
   ],
   "source": [
    "nn_model2 = evaluate(note_vectors, ['auto', 'cosine'])"
   ]
  },
  {
   "cell_type": "markdown",
   "id": "a90b84ff-5400-4ec6-9b31-2dafa1e8e8d3",
   "metadata": {
    "tags": []
   },
   "source": [
    "## The following script had been used to compare different metrics:"
   ]
  },
  {
   "cell_type": "markdown",
   "id": "ce325412-7396-434d-8d8f-1846150e4a17",
   "metadata": {
    "tags": []
   },
   "source": [
    "```python\n",
    "\n",
    "metrics = [\n",
    "    'minkowski'\n",
    "    'cityblock',\n",
    "    'cosine',\n",
    "    'euclidean',\n",
    "    'l1',\n",
    "    'l2',\n",
    "    'manhattan',\n",
    "    'nan_euclidean'\n",
    "]\n",
    "\n",
    "def compare(metrics):\n",
    "    m1, m2 = metrics\n",
    "    \n",
    "    nbrs1 = NearestNeighbors(\n",
    "\n",
    "        n_neighbors = n_neighbors, \n",
    "        radius      = radius, \n",
    "        algorithm   = algorithm,\n",
    "        metric      = m1\n",
    "\n",
    "    ).fit(X)\n",
    "    \n",
    "    \n",
    "    nbrs2 = NearestNeighbors(\n",
    "\n",
    "        n_neighbors = n_neighbors, \n",
    "        radius      = radius, \n",
    "        algorithm   = algorithm,\n",
    "        metric      = m2\n",
    "\n",
    "    ).fit(X)\n",
    "\n",
    "    distances1, indices1 = nbrs1.kneighbors(X)\n",
    "    distances2, indices2 = nbrs2.kneighbors(X)\n",
    "    \n",
    "    results = {}\n",
    "    results[m1] = {}\n",
    "    results[m2] = {}\n",
    "\n",
    "    for i, note in enumerate(notes[:4]):\n",
    "        key = note\n",
    "        results[m1][key] = []\n",
    "        results[m2][key] = []\n",
    "        \n",
    "        for a, b in zip(indices1[i], indices2[i]):\n",
    "            if i != a:  # Skip the note itself\n",
    "                results[m1][key].append(notes[a])\n",
    "                results[m2][key].append(notes[b])\n",
    "                \n",
    "                \n",
    "    return results  \n",
    "\n",
    "tests = [['minkowski', x] for x in metrics]\n",
    "\n",
    "for pair in tests:\n",
    "    res = compare(pair)\n",
    "\n",
    "    A, B = res\n",
    "\n",
    "    substr = 80\n",
    "\n",
    "    for ref1, ref2 in zip(res[A], res[B]):\n",
    "\n",
    "        print(f\"\\n{ref1}\\n\")\n",
    "\n",
    "        for v1, v2 in zip(sorted(res[A][ref1]), sorted(res[B][ref1])):\n",
    "            print(f\"---\\n{A}: {v1[:substr]}...\\n{B}: {v2[:substr]}...\")\n",
    "```"
   ]
  },
  {
   "cell_type": "markdown",
   "id": "4a966cab-03ee-4423-9943-aa20827f690c",
   "metadata": {},
   "source": [
    "## Now let's try to retrieve similar notes for a new entry using the pre trained models"
   ]
  },
  {
   "cell_type": "code",
   "execution_count": 11,
   "id": "6773ea20-c632-4616-8b80-c590187645cf",
   "metadata": {
    "tags": []
   },
   "outputs": [],
   "source": [
    "def find_n_similar(note, n, threshold=1.0):\n",
    "    processed_note = preprocess_text(note)\n",
    "    note_vectors = doc2vec_model.infer_vector(processed_note)\n",
    "    distances, indices = nn_model2.kneighbors([note_vectors], n_neighbors=n)\n",
    "    \n",
    "    filtered_indices = [\n",
    "        indices[0][x] \n",
    "        for x in range(n) \n",
    "        if distances[0][x] <= threshold\n",
    "    ]\n",
    "    \n",
    "    return [notes[i] for i in filtered_indices]"
   ]
  },
  {
   "cell_type": "code",
   "execution_count": 12,
   "id": "83c8a9b0-d01b-4287-a398-ed064cbb2e3f",
   "metadata": {
    "tags": []
   },
   "outputs": [
    {
     "name": "stdout",
     "output_type": "stream",
     "text": [
      "-> TypeScript is a typed superset of JavaScript that compiles to plain JavaScript. ...\n",
      "-> Gatsby.js is a React-based framework for building static websites. It combines t...\n",
      "-> ES6, also known as ECMAScript 2015, introduced new features to JavaScript, inclu...\n",
      "-> React Hook Form is a library that helps you build and manage forms in React. It ...\n"
     ]
    }
   ],
   "source": [
    "new_note = \"TypeScript is a statically typed superset of JavaScript that adds optional static types, interfaces, and other powerful features to the language. Developed and maintained by Microsoft, TypeScript aims to improve the developer experience by catching errors early through static type checking, which can prevent many common JavaScript runtime errors. TypeScript code compiles down to plain JavaScript, ensuring compatibility with any environment that runs JavaScript, including browsers and Node.js. This makes TypeScript a practical choice for large-scale applications and teams that require robust, maintainable codebases. One of the key features of TypeScript is its static typing. By explicitly defining the types of variables, function parameters, and return values, developers can catch type-related errors at compile time, rather than at runtime. This leads to more predictable and reliable code. TypeScript's type system is quite flexible, supporting various types such as unions, intersections, and generics, which allow for sophisticated type expressions.\"\n",
    "\n",
    "similar_notes = find_n_similar(new_note, n=4)\n",
    "\n",
    "for i in similar_notes:\n",
    "    print(f\"-> {i[:80]}...\")    "
   ]
  },
  {
   "cell_type": "markdown",
   "id": "189bf4a9-c962-4247-80b3-9108accfdce9",
   "metadata": {},
   "source": [
    "## For markdown formatted notes"
   ]
  },
  {
   "cell_type": "code",
   "execution_count": 13,
   "id": "3ab3c638-17bd-4bd5-993a-e2111fd5d66d",
   "metadata": {
    "tags": []
   },
   "outputs": [
    {
     "name": "stdout",
     "output_type": "stream",
     "text": [
      "-> Webpack is a module bundler for JavaScript applications. It takes modules with d...\n",
      "-> ES6, also known as ECMAScript 2015, introduced new features to JavaScript, inclu...\n",
      "-> Express.js is a minimal and flexible Node.js web application framework. It provi...\n",
      "-> Next.js is a React framework for server-side rendering and static site generatio...\n"
     ]
    }
   ],
   "source": [
    "import markdown\n",
    "    \n",
    "with open('webpack.md', 'r') as f:\n",
    "    markdown_string = f.read()\n",
    "\n",
    "similar_notes = find_n_similar(markdown_string, n=4)\n",
    "\n",
    "for i in similar_notes:\n",
    "    print(f\"-> {i[:80]}...\")"
   ]
  },
  {
   "cell_type": "markdown",
   "id": "f2a70a6f-395b-40c9-8919-ecff3c8c68a0",
   "metadata": {
    "tags": []
   },
   "source": [
    "### Here is an example of what the output looks like when we don't have enough data related to the reference subject. We still have the most similar notes but quite out of context"
   ]
  },
  {
   "cell_type": "code",
   "execution_count": 14,
   "id": "7cda2ef1-9704-46e3-9c61-30f754cb62fd",
   "metadata": {
    "tags": []
   },
   "outputs": [
    {
     "name": "stdout",
     "output_type": "stream",
     "text": [
      "-> ES6, also known as ECMAScript 2015, introduced new features to JavaScript, inclu...\n",
      "-> GraphQL is a query language for APIs that allows clients to request exactly the ...\n",
      "-> GraphQL is a query language for APIs and a runtime for executing queries. It pro...\n",
      "-> Node.js is a JavaScript runtime built on Chrome's V8 engine. It allows you to ru...\n"
     ]
    }
   ],
   "source": [
    "with open('scala_note.md', 'r') as f:\n",
    "    scala_note_markdown_string = f.read()\n",
    "\n",
    "similar_notes = find_n_similar(scala_note_markdown_string, n=4)\n",
    "\n",
    "for i in similar_notes:\n",
    "    print(f\"-> {i[:80]}...\")"
   ]
  },
  {
   "cell_type": "markdown",
   "id": "97dd8955-4548-40c4-8d53-5eb9ea2a6043",
   "metadata": {},
   "source": [
    "### We can then introduce a threshold to the distance"
   ]
  },
  {
   "cell_type": "code",
   "execution_count": 15,
   "id": "edbde6cf-9a4c-4671-82fb-7cbabe2e9789",
   "metadata": {
    "tags": []
   },
   "outputs": [],
   "source": [
    "similar_notes = find_n_similar(scala_note_markdown_string, n=4, threshold=0.1)\n",
    "\n",
    "for i in similar_notes:\n",
    "    print(f\"-> {i[:80]}...\")"
   ]
  },
  {
   "cell_type": "markdown",
   "id": "39917fb5-7cfb-4f14-aed7-cf697d2c1283",
   "metadata": {},
   "source": [
    "## TF-IDF\n",
    "\n",
    "**TF-IDF (Term Frequency-Inverse Document Frequency)** is a statistical measure used to evaluate how important a word is to a document in a collection (or corpus) of documents. It is often used in information retrieval, text mining, and as a weighting factor in machine learning applications."
   ]
  },
  {
   "cell_type": "markdown",
   "id": "a343e453-22ec-4633-9eb8-7c86d32680d4",
   "metadata": {
    "tags": []
   },
   "source": [
    "#### Components of TF-IDF\n",
    "\n",
    "1. **Term Frequency (TF)**:\n",
    "   - **Definition**: The number of times a term appears in a document.\n",
    "   - **Formula**: \n",
    "     $$\n",
    "     \\text{TF}(t, d) = \\frac{\\text{Number of times term } t \\text{ appears in document } d}{\\text{Total number of terms in document } d}\n",
    "     $$\n",
    "\n",
    "2. **Inverse Document Frequency (IDF)**:\n",
    "   - **Definition**: A measure of how much information the word provides, i.e., whether the term is common or rare across all documents.\n",
    "   - **Formula**: \n",
    "     $$\n",
    "     \\text{IDF}(t) = \\log \\left( \\frac{\\text{Total number of documents}}{\\text{Number of documents containing term } t} \\right)\n",
    "     $$\n",
    "\n",
    "3. **TF-IDF Score**:\n",
    "   - **Definition**: The product of TF and IDF, giving a weight to each term in a document based on its frequency and how common or rare it is across the corpus.\n",
    "   - **Formula**: \n",
    "     $$\n",
    "     \\text{TF-IDF}(t, d) = \\text{TF}(t, d) \\times \\text{IDF}(t)\n",
    "     $$\n",
    "\n",
    "#### Steps to Calculate TF-IDF\n",
    "\n",
    "1. **Calculate Term Frequency (TF)** for each term in each document.\n",
    "2. **Calculate Inverse Document Frequency (IDF)** for each term across the entire corpus.\n",
    "3. **Compute TF-IDF** by multiplying TF and IDF values for each term in each document."
   ]
  },
  {
   "cell_type": "code",
   "execution_count": 16,
   "id": "6aca0a15-b5ea-4e5e-a59c-3afffd7f16d9",
   "metadata": {
    "tags": []
   },
   "outputs": [],
   "source": [
    "from sklearn.feature_extraction.text import TfidfVectorizer\n",
    "\n",
    "tfidf_vectorizer = TfidfVectorizer()\n",
    "tfidf_vectors = tfidf_vectorizer.fit_transform(notes)"
   ]
  },
  {
   "cell_type": "code",
   "execution_count": 17,
   "id": "4a26bc3c-a38b-489c-903e-84679e4882c7",
   "metadata": {
    "tags": []
   },
   "outputs": [
    {
     "name": "stdout",
     "output_type": "stream",
     "text": [
      "For a reference note X, retrieve the 4 most similar notes.\n",
      "\n",
      "Algorithm used: auto\n",
      "Metric: cosine\n",
      "\n",
      "\n",
      "**Note reference**:\n",
      "JSON Web Tokens (JWT) are a compact, URL-safe means of representing claims to be...\n",
      "\n",
      "**Similar notes:**\n",
      " --> Gulp is a task runner for automating repetitive tasks in your development workfl...\n",
      " --> Concurrency is the ability of different parts of a program to execute independen...\n",
      " --> The role of ethical hacking in identifying and mitigating security vulnerabiliti...\n",
      " --> HTML, or HyperText Markup Language, is the foundation of web development. It pro...\n",
      "\n",
      "\n",
      "**Note reference**:\n",
      "An overview of software engineering principles, methodologies, and practices....\n",
      "\n",
      "**Similar notes:**\n",
      " --> Software engineering is the systematic approach to the design, development, test...\n",
      " --> Tips and strategies for preparing for software engineering interviews, including...\n",
      " --> Best practices for leading software engineering teams, including communication, ...\n",
      " --> Careers in software engineering offer opportunities to work on diverse projects,...\n",
      "\n",
      "\n",
      "**Note reference**:\n",
      "Overview of SDLC phases, including planning, requirements gathering, design, dev...\n",
      "\n",
      "**Similar notes:**\n",
      " --> SDLC is a process used by software teams to design, develop, and test high-quali...\n",
      " --> The Waterfall model is a linear sequential approach to software development, whe...\n",
      " --> Requirements engineering involves gathering, documenting, and analyzing requirem...\n",
      " --> Software engineering is the systematic approach to the design, development, test...\n",
      "\n",
      "\n",
      "**Note reference**:\n",
      "Explaining the traditional Waterfall model and its sequential approach to softwa...\n",
      "\n",
      "**Similar notes:**\n",
      " --> Understanding the Agile methodology and its iterative approach to software devel...\n",
      " --> The Waterfall model is a linear sequential approach to software development, whe...\n",
      " --> CD is a software engineering approach where teams produce software in short cycl...\n",
      " --> Agile is an iterative approach to software development that emphasizes collabora...\n"
     ]
    }
   ],
   "source": [
    "combined_vectors = np.hstack((note_vectors, tfidf_vectors.toarray()))\n",
    "\n",
    "tfidf_knn_model = evaluate(combined_vectors,['auto', 'cosine'])"
   ]
  },
  {
   "cell_type": "markdown",
   "id": "d40b3ede-18d2-4eab-a885-34e47201b4e7",
   "metadata": {},
   "source": [
    "### Here are the steps to get similarities for a new note"
   ]
  },
  {
   "cell_type": "code",
   "execution_count": 87,
   "id": "2bd0fe71-2c56-4500-b69f-adcd60cc340c",
   "metadata": {
    "tags": []
   },
   "outputs": [
    {
     "name": "stdout",
     "output_type": "stream",
     "text": [
      "-> Node.js is a JavaScript runtime built on Chrome's V8 engine. It allows you to ru...\n",
      "-> Babel is a JavaScript compiler that allows you to use next-generation JavaScript...\n",
      "-> ES6, also known as ECMAScript 2015, introduced new features to JavaScript, inclu...\n"
     ]
    }
   ],
   "source": [
    "new_note = \"Node.js is a cross-platform, open-source JavaScript runtime environment that can run on Windows, Linux, Unix, macOS, and more. Node.js runs on the V8 JavaScript engine, and executes JavaScript code outside a web browser. Node.js lets developers use JavaScript to write command line tools and for server-side scripting.\"\n",
    "new_processed_note = preprocess_text(new_note)\n",
    "new_d2v_vector = doc2vec_model.infer_vector(new_processed_note)\n",
    "new_tfidf_vector = tfidf_vectorizer.transform([new_note]).toarray()\n",
    "new_combined_vector = np.hstack((new_d2v_vector, new_tfidf_vector[0]))\n",
    "new_distances, new_indices = tfidf_knn_model.kneighbors([new_combined_vector], n_neighbors=3)\n",
    "\n",
    "sims = [notes[i] for i in new_indices.flatten()]\n",
    "\n",
    "for i in sims:\n",
    "    print(f\"-> {i[:80]}...\")"
   ]
  },
  {
   "cell_type": "markdown",
   "id": "b7d4739f-13a4-46c4-ba80-1e98b413025e",
   "metadata": {},
   "source": [
    "## To represent our data in a 3D space we reduce its dimension using PCA"
   ]
  },
  {
   "cell_type": "code",
   "execution_count": 82,
   "id": "9d28aca7-2598-43f7-903e-209c0c8d9cda",
   "metadata": {
    "tags": []
   },
   "outputs": [
    {
     "data": {
      "application/vnd.plotly.v1+json": {
       "config": {
        "plotlyServerURL": "https://plot.ly"
       },
       "data": [
        {
         "hovertemplate": "0=%{x}<br>1=%{y}<br>2=%{z}<extra></extra>",
         "legendgroup": "",
         "marker": {
          "color": "#636efa",
          "opacity": 0.4,
          "symbol": "circle"
         },
         "mode": "markers",
         "name": "",
         "scene": "scene",
         "showlegend": false,
         "type": "scatter3d",
         "x": [
          -0.12546093980416667,
          0.7767383781710987,
          3.243382734672256,
          0.8849232403424976,
          -2.528677419402201,
          2.0218186055156493,
          0.03115911884741288,
          -1.1503897927990878,
          1.1214069647789975,
          -2.7380327731282255,
          0.35160293248505864,
          0.23161662300146604,
          0.6990792244618397,
          -0.38042460158821645,
          0.005988069323646034,
          1.269804835930905,
          0.6583084090085805,
          -1.8001009247736544,
          -1.1981476774971573,
          -1.8709428020223013,
          -0.20503003366934974,
          0.5426406842087609,
          -1.5202282771557325,
          -1.6820771640381258,
          1.1129852358240486,
          0.8160152009552838,
          0.5526557142232724,
          0.6834417963900423,
          -2.159320698497945,
          0.8839276665469551,
          0.22450722566312706,
          0.5381422690988321,
          0.6060352083315613,
          2.083407758010796,
          0.053387986470101643,
          0.40057260844198733,
          0.42436494151649323,
          -0.4337936433796302,
          0.5825844167108483,
          0.7492205599601075,
          -1.011388573581196,
          -0.4196613471592018,
          0.009781047902966364,
          -0.11565800074230931,
          0.8387092390783148,
          0.11335630772631695,
          0.5234107306550396,
          0.8108757906629928,
          -1.045742696804502,
          1.0893184142747279,
          -0.40854260982113483,
          1.0827090097497847,
          -1.6018853433387428,
          0.07046273285029109,
          -0.20370430372390017,
          1.8366936235030247,
          -1.470795077835943,
          0.9907353194923326,
          0.16906125646228043,
          0.41879344044506844,
          -2.321472121713837,
          -0.09658495700936635,
          -0.6877536063246377,
          -0.7121075006443687,
          -1.1613795582030608,
          -0.14847043000371352,
          0.3421126257554432,
          -1.5395597688518035,
          -0.9702014004599546,
          0.796997752591516,
          3.3773646041775147,
          -1.5659562026943021,
          0.667092031455882,
          -2.313818187585057,
          0.14550399044542633,
          -0.7682660172308559,
          -0.061655312179568614,
          4.336257594732944,
          -0.8599455687977156,
          2.5165137337357653,
          0.9923833487540644,
          1.1367792235371064,
          -0.1106280857030332,
          0.37978770127841205,
          0.7700702217175556,
          -0.4617179448056623,
          1.6177141998035445,
          -0.9892385085442161,
          0.3702904754732064,
          0.7263222025319395,
          1.0036121509340665,
          0.043132527907880906,
          -1.7533085877436188,
          -1.2001627364452627,
          1.269385250075873,
          -1.3250606443902164,
          -1.9652737659557284,
          2.9777910170043556,
          0.33297036093568405,
          0.7467858354784221,
          -1.2080725133303871,
          2.50332216084339,
          0.03617728277372189,
          0.49780889701914227,
          0.08486698038406483,
          -2.1454715284864223,
          -0.16673993028535491,
          1.0883782333034402,
          0.5232224298636525,
          -0.8783498867373524,
          -0.28857503874109447,
          0.06381280771043181,
          0.8034898361967006,
          0.23069500814398142,
          0.3279927877966757,
          -0.6777821615079838,
          -1.8262893252304409,
          1.2976438285476837,
          -0.419051192513056,
          -1.8691428762281583,
          0.039265426982451855,
          -1.180460570625683,
          -0.6192109630142927,
          1.0083886356204355,
          0.19109776815273508,
          -0.2801846984552563,
          -1.0446547751330515,
          -1.503753585518319,
          -0.1630037243890415,
          -1.0428956214996905,
          0.12037021549940487,
          -2.032912544923095,
          -0.439907926191886
         ],
         "y": [
          -0.13088920927730932,
          -0.10868566030471938,
          -0.14674669963692372,
          -0.07488044564543941,
          -0.7469946550111428,
          0.1652939739057892,
          -1.0415112372343769,
          -0.9596377513915204,
          0.5150873913965637,
          -0.6461521177764602,
          -0.2332282712818306,
          0.06621186076143125,
          -0.2789463573063389,
          -0.856091305195128,
          0.7518535788758889,
          -0.2580766243544838,
          -0.23584336832279224,
          -0.6553773630805014,
          -0.3181077882319726,
          0.5873066695261233,
          -0.0822971498950442,
          0.4107875439949371,
          0.50772528122805,
          0.0547310743087838,
          0.5204766302497614,
          -0.06483412285362182,
          0.12951003983440773,
          -0.04688652897346252,
          -0.7458220334761216,
          0.17076221048545323,
          -0.44262224764653474,
          -0.18914954432925918,
          -0.12611832069628393,
          -0.7577271297166223,
          1.878364325647288,
          -0.18648047870532,
          -0.16525306491355046,
          -0.6462899428277153,
          -0.3273021134437377,
          0.8691134974472864,
          -0.1923887850631361,
          1.4559072621868352,
          -0.3814688653276624,
          -0.4466132811181797,
          0.024857237246035675,
          1.4695455188496693,
          0.18007295819185848,
          0.13613434535961375,
          -0.962756836803088,
          0.5679061546452274,
          0.43445759875508616,
          0.8160977115363649,
          -0.6814249391293239,
          -0.5580778758638889,
          -0.2822088894865376,
          -0.2994924333338006,
          0.14525111580288483,
          0.37144361846164436,
          0.28706168127576903,
          -0.10971472637479295,
          6.095905492654578,
          -0.019749398213972886,
          -0.3648037295468876,
          -0.4835130609657815,
          -0.3676386394348161,
          -0.5569734562637735,
          0.06788982174891915,
          -0.7367908793056438,
          -0.040448355731869286,
          -0.10613038989599913,
          -0.16607222584646375,
          -0.5303961923212454,
          0.06582119432053793,
          -0.8991896402242626,
          0.5818098701836706,
          0.8472694137893239,
          0.1892239447389522,
          -0.24074753055073111,
          -0.24400819102748314,
          -0.6951702228341978,
          0.39367894087702543,
          -0.35588225100234566,
          0.2699680106408533,
          -0.10591507282723246,
          -0.020666129926064366,
          -0.297750573693389,
          -0.15566326269544103,
          -0.1619889341811569,
          0.020531094606795457,
          0.5198167539089512,
          -0.03760293627641291,
          -0.2901114767631934,
          -0.552054707350132,
          4.923145466098826,
          0.11781779241381514,
          -0.3223930257522025,
          -0.9684513011453912,
          0.020229390937963946,
          -0.05288664079571443,
          -0.3221181547259432,
          -0.3215897941313779,
          0.010744829983274138,
          -0.3607138501717528,
          0.02000138470627639,
          -0.00023583366398794773,
          -1.25445555607381,
          0.19084554582819913,
          0.6143326643693784,
          -0.09062697675721189,
          -0.7809985101031707,
          0.08894657684269454,
          0.3663422494938594,
          -0.03409756268948334,
          0.1916852994191399,
          -0.24652613222746966,
          -0.8736971869970471,
          1.2744847115625708,
          0.7811444620771526,
          -1.341066798532427,
          0.32278676835138703,
          -0.46360443656307215,
          0.5787746025419964,
          0.9859793814606024,
          0.0613733783411743,
          0.5837918290215494,
          -0.5136791038114222,
          -0.27947354294802,
          -0.45796253044290236,
          -1.371282239843915,
          0.13891643073740642,
          0.6119749154199104,
          -1.255894674682281,
          -0.324072224083824
         ],
         "z": [
          -0.5161691348308461,
          0.18040049769736718,
          -0.061438687437403404,
          0.12397587465050068,
          -0.9114398442997538,
          0.1741471338163371,
          2.8180288628698356,
          0.250995462127268,
          -0.6605546262387922,
          -0.9658931386730956,
          -0.20186961456327657,
          -0.330581065399149,
          -0.17589439085498984,
          2.522429951208603,
          -0.7553486191681797,
          -0.05789897056064265,
          -0.13046463082620205,
          0.9215167407508863,
          -1.132792876505161,
          -0.5993611516063275,
          0.24270813902575727,
          -0.08503397005860878,
          -0.17428300853528716,
          -0.6413870235132046,
          -0.15432500051731743,
          -0.037770972524332105,
          -0.5859026654757108,
          0.43695251476538927,
          0.4519451188043992,
          0.028860343613092723,
          0.013670294527478033,
          0.15635862803716788,
          -0.04234718373050326,
          -0.3295575896741928,
          0.4196311349974345,
          -0.2606647962392864,
          -0.09633572126221224,
          1.3558473060439549,
          -0.2771719035739767,
          -1.0208772769447918,
          -0.2487087746539412,
          0.5942564708956717,
          -0.1319922691080226,
          0.6220600642197296,
          -0.1369221147013066,
          0.5633786555329914,
          0.028221661546190425,
          0.2425706803561631,
          1.2477912838445357,
          -1.130655500530366,
          -0.038977457844129815,
          0.7026081795692082,
          -0.9521811389922878,
          -0.6446545867045373,
          -0.5524966514351656,
          -0.5882771178001025,
          -0.2877332198245828,
          0.12569100931174776,
          0.1507573841503623,
          0.004899579538055966,
          1.4154730744214588,
          -0.026459856639048457,
          -0.23052913541157577,
          -0.3436578570080037,
          -1.0527340192430619,
          1.7949785917325176,
          -0.6605434597351378,
          -0.5072037155862061,
          -0.2687284749531744,
          -0.5181739347784392,
          -0.015338468629914906,
          -0.45342707574041036,
          -0.16577443453144347,
          -0.7314787310114259,
          0.49619842855714985,
          -0.25366493622809166,
          -0.4022674007948834,
          -0.16667076880012163,
          -0.7027015943819783,
          -0.3786539403753454,
          -0.22957150071928029,
          -0.6845523187287861,
          -0.21899476354265904,
          0.05487569026502797,
          -0.5832478212955302,
          -0.39486050572081866,
          0.5462563332274055,
          -0.5768332139499608,
          -0.07250420971630796,
          -0.537525658473682,
          -0.10627066316415307,
          1.321809151339199,
          -0.2382442650993847,
          1.2699126687408604,
          0.2144265736065552,
          -0.26867984226862973,
          0.1548855683231348,
          -0.14461829019990968,
          0.8568418148170085,
          0.16894683651417947,
          0.003483515132608973,
          -0.18578667312652225,
          -0.13143549010875524,
          -0.4115094499495537,
          0.9930910826494084,
          -0.38303436183175643,
          -0.40979561713912904,
          -0.7692300463269197,
          -0.6485048726766793,
          0.027955645586153426,
          -0.18341634571194726,
          -0.2907773522365477,
          -0.13375376878244194,
          -0.3315213047925697,
          -0.1494264110883174,
          1.4640992676732272,
          -0.24005730064816885,
          0.0994049249609513,
          3.1575928673394484,
          -0.5073852011781582,
          0.6208263546464141,
          -0.31534861120980445,
          0.5316109922054951,
          -0.16275494157159315,
          -0.18626732944171773,
          -0.1765374656919117,
          -0.7171925986037291,
          -0.6138464331173851,
          3.9720248987659628,
          -0.5904013325147555,
          0.018300697104651556,
          -0.15428688747678798,
          -0.0185546029487317
         ]
        }
       ],
       "layout": {
        "height": 800,
        "legend": {
         "tracegroupgap": 0
        },
        "margin": {
         "t": 60
        },
        "scene": {
         "aspectmode": "manual",
         "aspectratio": {
          "x": 2,
          "y": 2,
          "z": 2
         },
         "camera": {
          "center": {
           "x": 0,
           "y": 0,
           "z": 0
          },
          "eye": {
           "x": 0.24973093289680862,
           "y": 0.2525075028085308,
           "z": 0.25112305531363555
          },
          "projection": {
           "type": "perspective"
          },
          "up": {
           "x": 0.0012305465706548698,
           "y": -0.0012155278172875763,
           "z": 0.9999985041225127
          }
         },
         "domain": {
          "x": [
           0,
           1
          ],
          "y": [
           0,
           1
          ]
         },
         "xaxis": {
          "title": {
           "text": "0"
          },
          "type": "linear"
         },
         "yaxis": {
          "title": {
           "text": "1"
          },
          "type": "linear"
         },
         "zaxis": {
          "title": {
           "text": "2"
          },
          "type": "linear"
         }
        },
        "template": {
         "data": {
          "bar": [
           {
            "error_x": {
             "color": "rgb(51,51,51)"
            },
            "error_y": {
             "color": "rgb(51,51,51)"
            },
            "marker": {
             "line": {
              "color": "rgb(237,237,237)",
              "width": 0.5
             },
             "pattern": {
              "fillmode": "overlay",
              "size": 10,
              "solidity": 0.2
             }
            },
            "type": "bar"
           }
          ],
          "barpolar": [
           {
            "marker": {
             "line": {
              "color": "rgb(237,237,237)",
              "width": 0.5
             },
             "pattern": {
              "fillmode": "overlay",
              "size": 10,
              "solidity": 0.2
             }
            },
            "type": "barpolar"
           }
          ],
          "carpet": [
           {
            "aaxis": {
             "endlinecolor": "rgb(51,51,51)",
             "gridcolor": "white",
             "linecolor": "white",
             "minorgridcolor": "white",
             "startlinecolor": "rgb(51,51,51)"
            },
            "baxis": {
             "endlinecolor": "rgb(51,51,51)",
             "gridcolor": "white",
             "linecolor": "white",
             "minorgridcolor": "white",
             "startlinecolor": "rgb(51,51,51)"
            },
            "type": "carpet"
           }
          ],
          "choropleth": [
           {
            "colorbar": {
             "outlinewidth": 0,
             "tickcolor": "rgb(237,237,237)",
             "ticklen": 6,
             "ticks": "inside"
            },
            "type": "choropleth"
           }
          ],
          "contour": [
           {
            "colorbar": {
             "outlinewidth": 0,
             "tickcolor": "rgb(237,237,237)",
             "ticklen": 6,
             "ticks": "inside"
            },
            "colorscale": [
             [
              0,
              "rgb(20,44,66)"
             ],
             [
              1,
              "rgb(90,179,244)"
             ]
            ],
            "type": "contour"
           }
          ],
          "contourcarpet": [
           {
            "colorbar": {
             "outlinewidth": 0,
             "tickcolor": "rgb(237,237,237)",
             "ticklen": 6,
             "ticks": "inside"
            },
            "type": "contourcarpet"
           }
          ],
          "heatmap": [
           {
            "colorbar": {
             "outlinewidth": 0,
             "tickcolor": "rgb(237,237,237)",
             "ticklen": 6,
             "ticks": "inside"
            },
            "colorscale": [
             [
              0,
              "rgb(20,44,66)"
             ],
             [
              1,
              "rgb(90,179,244)"
             ]
            ],
            "type": "heatmap"
           }
          ],
          "heatmapgl": [
           {
            "colorbar": {
             "outlinewidth": 0,
             "tickcolor": "rgb(237,237,237)",
             "ticklen": 6,
             "ticks": "inside"
            },
            "colorscale": [
             [
              0,
              "rgb(20,44,66)"
             ],
             [
              1,
              "rgb(90,179,244)"
             ]
            ],
            "type": "heatmapgl"
           }
          ],
          "histogram": [
           {
            "marker": {
             "pattern": {
              "fillmode": "overlay",
              "size": 10,
              "solidity": 0.2
             }
            },
            "type": "histogram"
           }
          ],
          "histogram2d": [
           {
            "colorbar": {
             "outlinewidth": 0,
             "tickcolor": "rgb(237,237,237)",
             "ticklen": 6,
             "ticks": "inside"
            },
            "colorscale": [
             [
              0,
              "rgb(20,44,66)"
             ],
             [
              1,
              "rgb(90,179,244)"
             ]
            ],
            "type": "histogram2d"
           }
          ],
          "histogram2dcontour": [
           {
            "colorbar": {
             "outlinewidth": 0,
             "tickcolor": "rgb(237,237,237)",
             "ticklen": 6,
             "ticks": "inside"
            },
            "colorscale": [
             [
              0,
              "rgb(20,44,66)"
             ],
             [
              1,
              "rgb(90,179,244)"
             ]
            ],
            "type": "histogram2dcontour"
           }
          ],
          "mesh3d": [
           {
            "colorbar": {
             "outlinewidth": 0,
             "tickcolor": "rgb(237,237,237)",
             "ticklen": 6,
             "ticks": "inside"
            },
            "type": "mesh3d"
           }
          ],
          "parcoords": [
           {
            "line": {
             "colorbar": {
              "outlinewidth": 0,
              "tickcolor": "rgb(237,237,237)",
              "ticklen": 6,
              "ticks": "inside"
             }
            },
            "type": "parcoords"
           }
          ],
          "pie": [
           {
            "automargin": true,
            "type": "pie"
           }
          ],
          "scatter": [
           {
            "fillpattern": {
             "fillmode": "overlay",
             "size": 10,
             "solidity": 0.2
            },
            "type": "scatter"
           }
          ],
          "scatter3d": [
           {
            "line": {
             "colorbar": {
              "outlinewidth": 0,
              "tickcolor": "rgb(237,237,237)",
              "ticklen": 6,
              "ticks": "inside"
             }
            },
            "marker": {
             "colorbar": {
              "outlinewidth": 0,
              "tickcolor": "rgb(237,237,237)",
              "ticklen": 6,
              "ticks": "inside"
             }
            },
            "type": "scatter3d"
           }
          ],
          "scattercarpet": [
           {
            "marker": {
             "colorbar": {
              "outlinewidth": 0,
              "tickcolor": "rgb(237,237,237)",
              "ticklen": 6,
              "ticks": "inside"
             }
            },
            "type": "scattercarpet"
           }
          ],
          "scattergeo": [
           {
            "marker": {
             "colorbar": {
              "outlinewidth": 0,
              "tickcolor": "rgb(237,237,237)",
              "ticklen": 6,
              "ticks": "inside"
             }
            },
            "type": "scattergeo"
           }
          ],
          "scattergl": [
           {
            "marker": {
             "colorbar": {
              "outlinewidth": 0,
              "tickcolor": "rgb(237,237,237)",
              "ticklen": 6,
              "ticks": "inside"
             }
            },
            "type": "scattergl"
           }
          ],
          "scattermapbox": [
           {
            "marker": {
             "colorbar": {
              "outlinewidth": 0,
              "tickcolor": "rgb(237,237,237)",
              "ticklen": 6,
              "ticks": "inside"
             }
            },
            "type": "scattermapbox"
           }
          ],
          "scatterpolar": [
           {
            "marker": {
             "colorbar": {
              "outlinewidth": 0,
              "tickcolor": "rgb(237,237,237)",
              "ticklen": 6,
              "ticks": "inside"
             }
            },
            "type": "scatterpolar"
           }
          ],
          "scatterpolargl": [
           {
            "marker": {
             "colorbar": {
              "outlinewidth": 0,
              "tickcolor": "rgb(237,237,237)",
              "ticklen": 6,
              "ticks": "inside"
             }
            },
            "type": "scatterpolargl"
           }
          ],
          "scatterternary": [
           {
            "marker": {
             "colorbar": {
              "outlinewidth": 0,
              "tickcolor": "rgb(237,237,237)",
              "ticklen": 6,
              "ticks": "inside"
             }
            },
            "type": "scatterternary"
           }
          ],
          "surface": [
           {
            "colorbar": {
             "outlinewidth": 0,
             "tickcolor": "rgb(237,237,237)",
             "ticklen": 6,
             "ticks": "inside"
            },
            "colorscale": [
             [
              0,
              "rgb(20,44,66)"
             ],
             [
              1,
              "rgb(90,179,244)"
             ]
            ],
            "type": "surface"
           }
          ],
          "table": [
           {
            "cells": {
             "fill": {
              "color": "rgb(237,237,237)"
             },
             "line": {
              "color": "white"
             }
            },
            "header": {
             "fill": {
              "color": "rgb(217,217,217)"
             },
             "line": {
              "color": "white"
             }
            },
            "type": "table"
           }
          ]
         },
         "layout": {
          "annotationdefaults": {
           "arrowhead": 0,
           "arrowwidth": 1
          },
          "autotypenumbers": "strict",
          "coloraxis": {
           "colorbar": {
            "outlinewidth": 0,
            "tickcolor": "rgb(237,237,237)",
            "ticklen": 6,
            "ticks": "inside"
           }
          },
          "colorscale": {
           "sequential": [
            [
             0,
             "rgb(20,44,66)"
            ],
            [
             1,
             "rgb(90,179,244)"
            ]
           ],
           "sequentialminus": [
            [
             0,
             "rgb(20,44,66)"
            ],
            [
             1,
             "rgb(90,179,244)"
            ]
           ]
          },
          "colorway": [
           "#F8766D",
           "#A3A500",
           "#00BF7D",
           "#00B0F6",
           "#E76BF3"
          ],
          "font": {
           "color": "rgb(51,51,51)"
          },
          "geo": {
           "bgcolor": "white",
           "lakecolor": "white",
           "landcolor": "rgb(237,237,237)",
           "showlakes": true,
           "showland": true,
           "subunitcolor": "white"
          },
          "hoverlabel": {
           "align": "left"
          },
          "hovermode": "closest",
          "paper_bgcolor": "white",
          "plot_bgcolor": "rgb(237,237,237)",
          "polar": {
           "angularaxis": {
            "gridcolor": "white",
            "linecolor": "white",
            "showgrid": true,
            "tickcolor": "rgb(51,51,51)",
            "ticks": "outside"
           },
           "bgcolor": "rgb(237,237,237)",
           "radialaxis": {
            "gridcolor": "white",
            "linecolor": "white",
            "showgrid": true,
            "tickcolor": "rgb(51,51,51)",
            "ticks": "outside"
           }
          },
          "scene": {
           "xaxis": {
            "backgroundcolor": "rgb(237,237,237)",
            "gridcolor": "white",
            "gridwidth": 2,
            "linecolor": "white",
            "showbackground": true,
            "showgrid": true,
            "tickcolor": "rgb(51,51,51)",
            "ticks": "outside",
            "zerolinecolor": "white"
           },
           "yaxis": {
            "backgroundcolor": "rgb(237,237,237)",
            "gridcolor": "white",
            "gridwidth": 2,
            "linecolor": "white",
            "showbackground": true,
            "showgrid": true,
            "tickcolor": "rgb(51,51,51)",
            "ticks": "outside",
            "zerolinecolor": "white"
           },
           "zaxis": {
            "backgroundcolor": "rgb(237,237,237)",
            "gridcolor": "white",
            "gridwidth": 2,
            "linecolor": "white",
            "showbackground": true,
            "showgrid": true,
            "tickcolor": "rgb(51,51,51)",
            "ticks": "outside",
            "zerolinecolor": "white"
           }
          },
          "shapedefaults": {
           "fillcolor": "black",
           "line": {
            "width": 0
           },
           "opacity": 0.3
          },
          "ternary": {
           "aaxis": {
            "gridcolor": "white",
            "linecolor": "white",
            "showgrid": true,
            "tickcolor": "rgb(51,51,51)",
            "ticks": "outside"
           },
           "baxis": {
            "gridcolor": "white",
            "linecolor": "white",
            "showgrid": true,
            "tickcolor": "rgb(51,51,51)",
            "ticks": "outside"
           },
           "bgcolor": "rgb(237,237,237)",
           "caxis": {
            "gridcolor": "white",
            "linecolor": "white",
            "showgrid": true,
            "tickcolor": "rgb(51,51,51)",
            "ticks": "outside"
           }
          },
          "xaxis": {
           "automargin": true,
           "gridcolor": "white",
           "linecolor": "white",
           "showgrid": true,
           "tickcolor": "rgb(51,51,51)",
           "ticks": "outside",
           "title": {
            "standoff": 15
           },
           "zerolinecolor": "white"
          },
          "yaxis": {
           "automargin": true,
           "gridcolor": "white",
           "linecolor": "white",
           "showgrid": true,
           "tickcolor": "rgb(51,51,51)",
           "ticks": "outside",
           "title": {
            "standoff": 15
           },
           "zerolinecolor": "white"
          }
         }
        },
        "width": 800
       }
      },
      "text/html": [
       "<div>                            <div id=\"4f026001-9267-4112-ba47-7ed0b2c465da\" class=\"plotly-graph-div\" style=\"height:800px; width:800px;\"></div>            <script type=\"text/javascript\">                require([\"plotly\"], function(Plotly) {                    window.PLOTLYENV=window.PLOTLYENV || {};                                    if (document.getElementById(\"4f026001-9267-4112-ba47-7ed0b2c465da\")) {                    Plotly.newPlot(                        \"4f026001-9267-4112-ba47-7ed0b2c465da\",                        [{\"hovertemplate\":\"0=%{x}<br>1=%{y}<br>2=%{z}<extra></extra>\",\"legendgroup\":\"\",\"marker\":{\"color\":\"#636efa\",\"opacity\":0.4,\"symbol\":\"circle\"},\"mode\":\"markers\",\"name\":\"\",\"scene\":\"scene\",\"showlegend\":false,\"x\":[-0.12546093980416667,0.7767383781710987,3.243382734672256,0.8849232403424976,-2.528677419402201,2.0218186055156493,0.03115911884741288,-1.1503897927990878,1.1214069647789975,-2.7380327731282255,0.35160293248505864,0.23161662300146604,0.6990792244618397,-0.38042460158821645,0.005988069323646034,1.269804835930905,0.6583084090085805,-1.8001009247736544,-1.1981476774971573,-1.8709428020223013,-0.20503003366934974,0.5426406842087609,-1.5202282771557325,-1.6820771640381258,1.1129852358240486,0.8160152009552838,0.5526557142232724,0.6834417963900423,-2.159320698497945,0.8839276665469551,0.22450722566312706,0.5381422690988321,0.6060352083315613,2.083407758010796,0.053387986470101643,0.40057260844198733,0.42436494151649323,-0.4337936433796302,0.5825844167108483,0.7492205599601075,-1.011388573581196,-0.4196613471592018,0.009781047902966364,-0.11565800074230931,0.8387092390783148,0.11335630772631695,0.5234107306550396,0.8108757906629928,-1.045742696804502,1.0893184142747279,-0.40854260982113483,1.0827090097497847,-1.6018853433387428,0.07046273285029109,-0.20370430372390017,1.8366936235030247,-1.470795077835943,0.9907353194923326,0.16906125646228043,0.41879344044506844,-2.321472121713837,-0.09658495700936635,-0.6877536063246377,-0.7121075006443687,-1.1613795582030608,-0.14847043000371352,0.3421126257554432,-1.5395597688518035,-0.9702014004599546,0.796997752591516,3.3773646041775147,-1.5659562026943021,0.667092031455882,-2.313818187585057,0.14550399044542633,-0.7682660172308559,-0.061655312179568614,4.336257594732944,-0.8599455687977156,2.5165137337357653,0.9923833487540644,1.1367792235371064,-0.1106280857030332,0.37978770127841205,0.7700702217175556,-0.4617179448056623,1.6177141998035445,-0.9892385085442161,0.3702904754732064,0.7263222025319395,1.0036121509340665,0.043132527907880906,-1.7533085877436188,-1.2001627364452627,1.269385250075873,-1.3250606443902164,-1.9652737659557284,2.9777910170043556,0.33297036093568405,0.7467858354784221,-1.2080725133303871,2.50332216084339,0.03617728277372189,0.49780889701914227,0.08486698038406483,-2.1454715284864223,-0.16673993028535491,1.0883782333034402,0.5232224298636525,-0.8783498867373524,-0.28857503874109447,0.06381280771043181,0.8034898361967006,0.23069500814398142,0.3279927877966757,-0.6777821615079838,-1.8262893252304409,1.2976438285476837,-0.419051192513056,-1.8691428762281583,0.039265426982451855,-1.180460570625683,-0.6192109630142927,1.0083886356204355,0.19109776815273508,-0.2801846984552563,-1.0446547751330515,-1.503753585518319,-0.1630037243890415,-1.0428956214996905,0.12037021549940487,-2.032912544923095,-0.439907926191886],\"y\":[-0.13088920927730932,-0.10868566030471938,-0.14674669963692372,-0.07488044564543941,-0.7469946550111428,0.1652939739057892,-1.0415112372343769,-0.9596377513915204,0.5150873913965637,-0.6461521177764602,-0.2332282712818306,0.06621186076143125,-0.2789463573063389,-0.856091305195128,0.7518535788758889,-0.2580766243544838,-0.23584336832279224,-0.6553773630805014,-0.3181077882319726,0.5873066695261233,-0.0822971498950442,0.4107875439949371,0.50772528122805,0.0547310743087838,0.5204766302497614,-0.06483412285362182,0.12951003983440773,-0.04688652897346252,-0.7458220334761216,0.17076221048545323,-0.44262224764653474,-0.18914954432925918,-0.12611832069628393,-0.7577271297166223,1.878364325647288,-0.18648047870532,-0.16525306491355046,-0.6462899428277153,-0.3273021134437377,0.8691134974472864,-0.1923887850631361,1.4559072621868352,-0.3814688653276624,-0.4466132811181797,0.024857237246035675,1.4695455188496693,0.18007295819185848,0.13613434535961375,-0.962756836803088,0.5679061546452274,0.43445759875508616,0.8160977115363649,-0.6814249391293239,-0.5580778758638889,-0.2822088894865376,-0.2994924333338006,0.14525111580288483,0.37144361846164436,0.28706168127576903,-0.10971472637479295,6.095905492654578,-0.019749398213972886,-0.3648037295468876,-0.4835130609657815,-0.3676386394348161,-0.5569734562637735,0.06788982174891915,-0.7367908793056438,-0.040448355731869286,-0.10613038989599913,-0.16607222584646375,-0.5303961923212454,0.06582119432053793,-0.8991896402242626,0.5818098701836706,0.8472694137893239,0.1892239447389522,-0.24074753055073111,-0.24400819102748314,-0.6951702228341978,0.39367894087702543,-0.35588225100234566,0.2699680106408533,-0.10591507282723246,-0.020666129926064366,-0.297750573693389,-0.15566326269544103,-0.1619889341811569,0.020531094606795457,0.5198167539089512,-0.03760293627641291,-0.2901114767631934,-0.552054707350132,4.923145466098826,0.11781779241381514,-0.3223930257522025,-0.9684513011453912,0.020229390937963946,-0.05288664079571443,-0.3221181547259432,-0.3215897941313779,0.010744829983274138,-0.3607138501717528,0.02000138470627639,-0.00023583366398794773,-1.25445555607381,0.19084554582819913,0.6143326643693784,-0.09062697675721189,-0.7809985101031707,0.08894657684269454,0.3663422494938594,-0.03409756268948334,0.1916852994191399,-0.24652613222746966,-0.8736971869970471,1.2744847115625708,0.7811444620771526,-1.341066798532427,0.32278676835138703,-0.46360443656307215,0.5787746025419964,0.9859793814606024,0.0613733783411743,0.5837918290215494,-0.5136791038114222,-0.27947354294802,-0.45796253044290236,-1.371282239843915,0.13891643073740642,0.6119749154199104,-1.255894674682281,-0.324072224083824],\"z\":[-0.5161691348308461,0.18040049769736718,-0.061438687437403404,0.12397587465050068,-0.9114398442997538,0.1741471338163371,2.8180288628698356,0.250995462127268,-0.6605546262387922,-0.9658931386730956,-0.20186961456327657,-0.330581065399149,-0.17589439085498984,2.522429951208603,-0.7553486191681797,-0.05789897056064265,-0.13046463082620205,0.9215167407508863,-1.132792876505161,-0.5993611516063275,0.24270813902575727,-0.08503397005860878,-0.17428300853528716,-0.6413870235132046,-0.15432500051731743,-0.037770972524332105,-0.5859026654757108,0.43695251476538927,0.4519451188043992,0.028860343613092723,0.013670294527478033,0.15635862803716788,-0.04234718373050326,-0.3295575896741928,0.4196311349974345,-0.2606647962392864,-0.09633572126221224,1.3558473060439549,-0.2771719035739767,-1.0208772769447918,-0.2487087746539412,0.5942564708956717,-0.1319922691080226,0.6220600642197296,-0.1369221147013066,0.5633786555329914,0.028221661546190425,0.2425706803561631,1.2477912838445357,-1.130655500530366,-0.038977457844129815,0.7026081795692082,-0.9521811389922878,-0.6446545867045373,-0.5524966514351656,-0.5882771178001025,-0.2877332198245828,0.12569100931174776,0.1507573841503623,0.004899579538055966,1.4154730744214588,-0.026459856639048457,-0.23052913541157577,-0.3436578570080037,-1.0527340192430619,1.7949785917325176,-0.6605434597351378,-0.5072037155862061,-0.2687284749531744,-0.5181739347784392,-0.015338468629914906,-0.45342707574041036,-0.16577443453144347,-0.7314787310114259,0.49619842855714985,-0.25366493622809166,-0.4022674007948834,-0.16667076880012163,-0.7027015943819783,-0.3786539403753454,-0.22957150071928029,-0.6845523187287861,-0.21899476354265904,0.05487569026502797,-0.5832478212955302,-0.39486050572081866,0.5462563332274055,-0.5768332139499608,-0.07250420971630796,-0.537525658473682,-0.10627066316415307,1.321809151339199,-0.2382442650993847,1.2699126687408604,0.2144265736065552,-0.26867984226862973,0.1548855683231348,-0.14461829019990968,0.8568418148170085,0.16894683651417947,0.003483515132608973,-0.18578667312652225,-0.13143549010875524,-0.4115094499495537,0.9930910826494084,-0.38303436183175643,-0.40979561713912904,-0.7692300463269197,-0.6485048726766793,0.027955645586153426,-0.18341634571194726,-0.2907773522365477,-0.13375376878244194,-0.3315213047925697,-0.1494264110883174,1.4640992676732272,-0.24005730064816885,0.0994049249609513,3.1575928673394484,-0.5073852011781582,0.6208263546464141,-0.31534861120980445,0.5316109922054951,-0.16275494157159315,-0.18626732944171773,-0.1765374656919117,-0.7171925986037291,-0.6138464331173851,3.9720248987659628,-0.5904013325147555,0.018300697104651556,-0.15428688747678798,-0.0185546029487317],\"type\":\"scatter3d\"}],                        {\"template\":{\"data\":{\"barpolar\":[{\"marker\":{\"line\":{\"color\":\"rgb(237,237,237)\",\"width\":0.5},\"pattern\":{\"fillmode\":\"overlay\",\"size\":10,\"solidity\":0.2}},\"type\":\"barpolar\"}],\"bar\":[{\"error_x\":{\"color\":\"rgb(51,51,51)\"},\"error_y\":{\"color\":\"rgb(51,51,51)\"},\"marker\":{\"line\":{\"color\":\"rgb(237,237,237)\",\"width\":0.5},\"pattern\":{\"fillmode\":\"overlay\",\"size\":10,\"solidity\":0.2}},\"type\":\"bar\"}],\"carpet\":[{\"aaxis\":{\"endlinecolor\":\"rgb(51,51,51)\",\"gridcolor\":\"white\",\"linecolor\":\"white\",\"minorgridcolor\":\"white\",\"startlinecolor\":\"rgb(51,51,51)\"},\"baxis\":{\"endlinecolor\":\"rgb(51,51,51)\",\"gridcolor\":\"white\",\"linecolor\":\"white\",\"minorgridcolor\":\"white\",\"startlinecolor\":\"rgb(51,51,51)\"},\"type\":\"carpet\"}],\"choropleth\":[{\"colorbar\":{\"outlinewidth\":0,\"tickcolor\":\"rgb(237,237,237)\",\"ticklen\":6,\"ticks\":\"inside\"},\"type\":\"choropleth\"}],\"contourcarpet\":[{\"colorbar\":{\"outlinewidth\":0,\"tickcolor\":\"rgb(237,237,237)\",\"ticklen\":6,\"ticks\":\"inside\"},\"type\":\"contourcarpet\"}],\"contour\":[{\"colorbar\":{\"outlinewidth\":0,\"tickcolor\":\"rgb(237,237,237)\",\"ticklen\":6,\"ticks\":\"inside\"},\"colorscale\":[[0,\"rgb(20,44,66)\"],[1,\"rgb(90,179,244)\"]],\"type\":\"contour\"}],\"heatmapgl\":[{\"colorbar\":{\"outlinewidth\":0,\"tickcolor\":\"rgb(237,237,237)\",\"ticklen\":6,\"ticks\":\"inside\"},\"colorscale\":[[0,\"rgb(20,44,66)\"],[1,\"rgb(90,179,244)\"]],\"type\":\"heatmapgl\"}],\"heatmap\":[{\"colorbar\":{\"outlinewidth\":0,\"tickcolor\":\"rgb(237,237,237)\",\"ticklen\":6,\"ticks\":\"inside\"},\"colorscale\":[[0,\"rgb(20,44,66)\"],[1,\"rgb(90,179,244)\"]],\"type\":\"heatmap\"}],\"histogram2dcontour\":[{\"colorbar\":{\"outlinewidth\":0,\"tickcolor\":\"rgb(237,237,237)\",\"ticklen\":6,\"ticks\":\"inside\"},\"colorscale\":[[0,\"rgb(20,44,66)\"],[1,\"rgb(90,179,244)\"]],\"type\":\"histogram2dcontour\"}],\"histogram2d\":[{\"colorbar\":{\"outlinewidth\":0,\"tickcolor\":\"rgb(237,237,237)\",\"ticklen\":6,\"ticks\":\"inside\"},\"colorscale\":[[0,\"rgb(20,44,66)\"],[1,\"rgb(90,179,244)\"]],\"type\":\"histogram2d\"}],\"histogram\":[{\"marker\":{\"pattern\":{\"fillmode\":\"overlay\",\"size\":10,\"solidity\":0.2}},\"type\":\"histogram\"}],\"mesh3d\":[{\"colorbar\":{\"outlinewidth\":0,\"tickcolor\":\"rgb(237,237,237)\",\"ticklen\":6,\"ticks\":\"inside\"},\"type\":\"mesh3d\"}],\"parcoords\":[{\"line\":{\"colorbar\":{\"outlinewidth\":0,\"tickcolor\":\"rgb(237,237,237)\",\"ticklen\":6,\"ticks\":\"inside\"}},\"type\":\"parcoords\"}],\"pie\":[{\"automargin\":true,\"type\":\"pie\"}],\"scatter3d\":[{\"line\":{\"colorbar\":{\"outlinewidth\":0,\"tickcolor\":\"rgb(237,237,237)\",\"ticklen\":6,\"ticks\":\"inside\"}},\"marker\":{\"colorbar\":{\"outlinewidth\":0,\"tickcolor\":\"rgb(237,237,237)\",\"ticklen\":6,\"ticks\":\"inside\"}},\"type\":\"scatter3d\"}],\"scattercarpet\":[{\"marker\":{\"colorbar\":{\"outlinewidth\":0,\"tickcolor\":\"rgb(237,237,237)\",\"ticklen\":6,\"ticks\":\"inside\"}},\"type\":\"scattercarpet\"}],\"scattergeo\":[{\"marker\":{\"colorbar\":{\"outlinewidth\":0,\"tickcolor\":\"rgb(237,237,237)\",\"ticklen\":6,\"ticks\":\"inside\"}},\"type\":\"scattergeo\"}],\"scattergl\":[{\"marker\":{\"colorbar\":{\"outlinewidth\":0,\"tickcolor\":\"rgb(237,237,237)\",\"ticklen\":6,\"ticks\":\"inside\"}},\"type\":\"scattergl\"}],\"scattermapbox\":[{\"marker\":{\"colorbar\":{\"outlinewidth\":0,\"tickcolor\":\"rgb(237,237,237)\",\"ticklen\":6,\"ticks\":\"inside\"}},\"type\":\"scattermapbox\"}],\"scatterpolargl\":[{\"marker\":{\"colorbar\":{\"outlinewidth\":0,\"tickcolor\":\"rgb(237,237,237)\",\"ticklen\":6,\"ticks\":\"inside\"}},\"type\":\"scatterpolargl\"}],\"scatterpolar\":[{\"marker\":{\"colorbar\":{\"outlinewidth\":0,\"tickcolor\":\"rgb(237,237,237)\",\"ticklen\":6,\"ticks\":\"inside\"}},\"type\":\"scatterpolar\"}],\"scatter\":[{\"fillpattern\":{\"fillmode\":\"overlay\",\"size\":10,\"solidity\":0.2},\"type\":\"scatter\"}],\"scatterternary\":[{\"marker\":{\"colorbar\":{\"outlinewidth\":0,\"tickcolor\":\"rgb(237,237,237)\",\"ticklen\":6,\"ticks\":\"inside\"}},\"type\":\"scatterternary\"}],\"surface\":[{\"colorbar\":{\"outlinewidth\":0,\"tickcolor\":\"rgb(237,237,237)\",\"ticklen\":6,\"ticks\":\"inside\"},\"colorscale\":[[0,\"rgb(20,44,66)\"],[1,\"rgb(90,179,244)\"]],\"type\":\"surface\"}],\"table\":[{\"cells\":{\"fill\":{\"color\":\"rgb(237,237,237)\"},\"line\":{\"color\":\"white\"}},\"header\":{\"fill\":{\"color\":\"rgb(217,217,217)\"},\"line\":{\"color\":\"white\"}},\"type\":\"table\"}]},\"layout\":{\"annotationdefaults\":{\"arrowhead\":0,\"arrowwidth\":1},\"autotypenumbers\":\"strict\",\"coloraxis\":{\"colorbar\":{\"outlinewidth\":0,\"tickcolor\":\"rgb(237,237,237)\",\"ticklen\":6,\"ticks\":\"inside\"}},\"colorscale\":{\"sequential\":[[0,\"rgb(20,44,66)\"],[1,\"rgb(90,179,244)\"]],\"sequentialminus\":[[0,\"rgb(20,44,66)\"],[1,\"rgb(90,179,244)\"]]},\"colorway\":[\"#F8766D\",\"#A3A500\",\"#00BF7D\",\"#00B0F6\",\"#E76BF3\"],\"font\":{\"color\":\"rgb(51,51,51)\"},\"geo\":{\"bgcolor\":\"white\",\"lakecolor\":\"white\",\"landcolor\":\"rgb(237,237,237)\",\"showlakes\":true,\"showland\":true,\"subunitcolor\":\"white\"},\"hoverlabel\":{\"align\":\"left\"},\"hovermode\":\"closest\",\"paper_bgcolor\":\"white\",\"plot_bgcolor\":\"rgb(237,237,237)\",\"polar\":{\"angularaxis\":{\"gridcolor\":\"white\",\"linecolor\":\"white\",\"showgrid\":true,\"tickcolor\":\"rgb(51,51,51)\",\"ticks\":\"outside\"},\"bgcolor\":\"rgb(237,237,237)\",\"radialaxis\":{\"gridcolor\":\"white\",\"linecolor\":\"white\",\"showgrid\":true,\"tickcolor\":\"rgb(51,51,51)\",\"ticks\":\"outside\"}},\"scene\":{\"xaxis\":{\"backgroundcolor\":\"rgb(237,237,237)\",\"gridcolor\":\"white\",\"gridwidth\":2,\"linecolor\":\"white\",\"showbackground\":true,\"showgrid\":true,\"tickcolor\":\"rgb(51,51,51)\",\"ticks\":\"outside\",\"zerolinecolor\":\"white\"},\"yaxis\":{\"backgroundcolor\":\"rgb(237,237,237)\",\"gridcolor\":\"white\",\"gridwidth\":2,\"linecolor\":\"white\",\"showbackground\":true,\"showgrid\":true,\"tickcolor\":\"rgb(51,51,51)\",\"ticks\":\"outside\",\"zerolinecolor\":\"white\"},\"zaxis\":{\"backgroundcolor\":\"rgb(237,237,237)\",\"gridcolor\":\"white\",\"gridwidth\":2,\"linecolor\":\"white\",\"showbackground\":true,\"showgrid\":true,\"tickcolor\":\"rgb(51,51,51)\",\"ticks\":\"outside\",\"zerolinecolor\":\"white\"}},\"shapedefaults\":{\"fillcolor\":\"black\",\"line\":{\"width\":0},\"opacity\":0.3},\"ternary\":{\"aaxis\":{\"gridcolor\":\"white\",\"linecolor\":\"white\",\"showgrid\":true,\"tickcolor\":\"rgb(51,51,51)\",\"ticks\":\"outside\"},\"baxis\":{\"gridcolor\":\"white\",\"linecolor\":\"white\",\"showgrid\":true,\"tickcolor\":\"rgb(51,51,51)\",\"ticks\":\"outside\"},\"bgcolor\":\"rgb(237,237,237)\",\"caxis\":{\"gridcolor\":\"white\",\"linecolor\":\"white\",\"showgrid\":true,\"tickcolor\":\"rgb(51,51,51)\",\"ticks\":\"outside\"}},\"xaxis\":{\"automargin\":true,\"gridcolor\":\"white\",\"linecolor\":\"white\",\"showgrid\":true,\"tickcolor\":\"rgb(51,51,51)\",\"ticks\":\"outside\",\"title\":{\"standoff\":15},\"zerolinecolor\":\"white\"},\"yaxis\":{\"automargin\":true,\"gridcolor\":\"white\",\"linecolor\":\"white\",\"showgrid\":true,\"tickcolor\":\"rgb(51,51,51)\",\"ticks\":\"outside\",\"title\":{\"standoff\":15},\"zerolinecolor\":\"white\"}}},\"scene\":{\"domain\":{\"x\":[0.0,1.0],\"y\":[0.0,1.0]},\"xaxis\":{\"title\":{\"text\":\"0\"}},\"yaxis\":{\"title\":{\"text\":\"1\"}},\"zaxis\":{\"title\":{\"text\":\"2\"}},\"aspectratio\":{\"x\":2,\"y\":2,\"z\":2},\"aspectmode\":\"manual\"},\"legend\":{\"tracegroupgap\":0},\"margin\":{\"t\":60},\"height\":800,\"width\":800},                        {\"responsive\": true}                    ).then(function(){\n",
       "                            \n",
       "var gd = document.getElementById('4f026001-9267-4112-ba47-7ed0b2c465da');\n",
       "var x = new MutationObserver(function (mutations, observer) {{\n",
       "        var display = window.getComputedStyle(gd).display;\n",
       "        if (!display || display === 'none') {{\n",
       "            console.log([gd, 'removed!']);\n",
       "            Plotly.purge(gd);\n",
       "            observer.disconnect();\n",
       "        }}\n",
       "}});\n",
       "\n",
       "// Listen for the removal of the full notebook cells\n",
       "var notebookContainer = gd.closest('#notebook-container');\n",
       "if (notebookContainer) {{\n",
       "    x.observe(notebookContainer, {childList: true});\n",
       "}}\n",
       "\n",
       "// Listen for the clearing of the current output cell\n",
       "var outputEl = gd.closest('.output');\n",
       "if (outputEl) {{\n",
       "    x.observe(outputEl, {childList: true});\n",
       "}}\n",
       "\n",
       "                        })                };                });            </script>        </div>"
      ]
     },
     "metadata": {},
     "output_type": "display_data"
    }
   ],
   "source": [
    "import plotly.express as px\n",
    "from sklearn.decomposition import PCA\n",
    "\n",
    "pca = PCA(n_components=3)\n",
    "\n",
    "vectors_3d = pca.fit_transform(combined_vectors)\n",
    "\n",
    "zoom_fact = 2\n",
    "\n",
    "fig = px.scatter_3d(\n",
    "    \n",
    "    vectors_3d, \n",
    "    x=0, \n",
    "    y=1, \n",
    "    z=2, \n",
    "    opacity=0.4, \n",
    "    width=800, \n",
    "    height=800,\n",
    "    \n",
    ").update_layout(\n",
    "\n",
    "    template='ggplot2'\n",
    ")\n",
    "\n",
    "fig.update_layout(\n",
    "    scene_aspectmode='manual',\n",
    "    scene_aspectratio=dict(\n",
    "        x=zoom_fact,\n",
    "        y=zoom_fact,\n",
    "        z=zoom_fact\n",
    "    )\n",
    ")\n",
    "\n",
    "fig.show()"
   ]
  },
  {
   "cell_type": "markdown",
   "id": "db6a6c0c-e953-4a56-8f3e-cd168b6753ff",
   "metadata": {},
   "source": [
    "Our 3D vecors can now be used to display a map of our data where each data point represents a note."
   ]
  },
  {
   "cell_type": "markdown",
   "id": "9c44de7c-f633-45bb-bcd3-06a09204a274",
   "metadata": {},
   "source": [
    "And for a 2D representation:"
   ]
  },
  {
   "cell_type": "code",
   "execution_count": 99,
   "id": "c4aca9e4-eba1-4fef-bae4-9bd7880d6f25",
   "metadata": {
    "tags": []
   },
   "outputs": [
    {
     "data": {
      "application/vnd.plotly.v1+json": {
       "config": {
        "plotlyServerURL": "https://plot.ly"
       },
       "data": [
        {
         "hovertemplate": "x=%{x}<br>y=%{y}<extra></extra>",
         "legendgroup": "",
         "marker": {
          "color": "#636efa",
          "opacity": 0.4,
          "symbol": "circle"
         },
         "mode": "markers",
         "name": "",
         "orientation": "v",
         "showlegend": false,
         "type": "scatter",
         "x": [
          -0.12546093984519135,
          0.776738378167996,
          3.243382734521433,
          0.8849232403767,
          -2.5286774193372556,
          2.0218186053959206,
          0.03115911883292761,
          -1.1503897926647295,
          1.12140696474964,
          -2.7380327730945964,
          0.3516029325050402,
          0.23161662298531036,
          0.6990792245333094,
          -0.3804246015865185,
          0.005988069357505436,
          1.2698048358469225,
          0.6583084089290616,
          -1.8001009247992121,
          -1.1981476773782858,
          -1.870942802136704,
          -0.20503003356431376,
          0.5426406843110582,
          -1.5202282773069635,
          -1.6820771640861412,
          1.1129852358998151,
          0.8160152009696005,
          0.5526557140977445,
          0.6834417964327553,
          -2.1593206987588975,
          0.8839276665618122,
          0.22450722572333565,
          0.5381422692334155,
          0.6060352083271224,
          2.0834077580315884,
          0.05338798646116156,
          0.40057260838248443,
          0.4243649415484202,
          -0.4337936434479686,
          0.5825844167803133,
          0.7492205599563367,
          -1.0113885735548347,
          -0.41966134700961855,
          0.009781047992330875,
          -0.11565800055993902,
          0.8387092390982503,
          0.11335630770014182,
          0.52341073072217,
          0.8108757907051998,
          -1.045742696645032,
          1.0893184142956869,
          -0.408542609882132,
          1.0827090097083545,
          -1.601885343042086,
          0.07046273299396504,
          -0.20370430373655413,
          1.8366936233923066,
          -1.4707950778321324,
          0.9907353194921661,
          0.16906125640046293,
          0.418793440466971,
          -2.3214721217155776,
          -0.09658495701043442,
          -0.68775360638436,
          -0.7121075007252029,
          -1.1613795581046833,
          -0.14847043007641875,
          0.34211262564509914,
          -1.5395597688903373,
          -0.9702014005212122,
          0.7969977525642858,
          3.3773646041364884,
          -1.5659562026852185,
          0.6670920314888181,
          -2.3138181875062718,
          0.14550399043139509,
          -0.7682660171938798,
          -0.06165531234842741,
          4.336257594550278,
          -0.8599455689551893,
          2.516513733843958,
          0.9923833487811607,
          1.136779223503658,
          -0.11062808569871034,
          0.3797877013198966,
          0.7700702217159068,
          -0.4617179447509118,
          1.6177141997646602,
          -0.9892385085611468,
          0.37029047549113314,
          0.7263222025178365,
          1.0036121509657505,
          0.04313252801282648,
          -1.7533085878827734,
          -1.200162736468205,
          1.269385250244147,
          -1.325060644351766,
          -1.9652737661001327,
          2.9777910168633355,
          0.3329703609320476,
          0.7467858356857123,
          -1.2080725133849375,
          2.5033221608149114,
          0.03617728282354172,
          0.4978088970706603,
          0.08486698052120518,
          -2.145471528813509,
          -0.1667399302278236,
          1.0883782332862948,
          0.5232224298754894,
          -0.8783498867109959,
          -0.28857503880610846,
          0.06381280769462774,
          0.8034898361351581,
          0.2306950081937651,
          0.32799278784627756,
          -0.6777821615114472,
          -1.8262893252779338,
          1.2976438285587526,
          -0.4190511926242098,
          -1.8691428763459588,
          0.039265427109244924,
          -1.1804605706373876,
          -0.619210962950655,
          1.0083886356176754,
          0.19109776809777293,
          -0.28018469840815896,
          -1.0446547750467208,
          -1.5037535854764974,
          -0.1630037243784756,
          -1.0428956214563834,
          0.12037021550185253,
          -2.0329125450580467,
          -0.43990792617714547
         ],
         "xaxis": "x",
         "y": [
          -0.13088919602248045,
          -0.108685658224723,
          -0.14674664975008025,
          -0.07488045776631808,
          -0.7469946761225402,
          0.16529400503095568,
          -1.0415112344665045,
          -0.9596378000211446,
          0.5150874130219679,
          -0.6461521275645676,
          -0.23322827685250397,
          0.06621185683492266,
          -0.27894637261451427,
          -0.8560913039432833,
          0.7518535672171386,
          -0.2580765957838972,
          -0.23584333989868758,
          -0.6553773428013693,
          -0.31810783103089846,
          0.5873067102547926,
          -0.0822971804603594,
          0.4107875144589564,
          0.5077253208608602,
          0.05473109041440842,
          0.5204766082382666,
          -0.06483413026972497,
          0.12951007626791491,
          -0.046886547679891075,
          -0.7458219325834237,
          0.17076220501486455,
          -0.4426222562056165,
          -0.18914957980032687,
          -0.12611830494113582,
          -0.7577271265850823,
          1.8783643275346658,
          -0.1864804574464663,
          -0.1652530743269512,
          -0.6462899354650657,
          -0.3273021249097406,
          0.8691134603816242,
          -0.19238878374405896,
          1.455907207316495,
          -0.3814688936537417,
          -0.4466133384624608,
          0.02485722465955198,
          1.4695455238903021,
          0.18007293733744734,
          0.13613432479111312,
          -0.962756896376372,
          0.5679061650646346,
          0.43445762301721164,
          0.8160977192254318,
          -0.6814250456968215,
          -0.5580779443176941,
          -0.2822088810311583,
          -0.29949239268994865,
          0.14525111873688157,
          0.37144361768226597,
          0.28706170535101505,
          -0.10971473503549306,
          6.095905498896308,
          -0.019749402959162974,
          -0.3648037092755701,
          -0.48351302658054063,
          -0.36763869856337833,
          -0.5569734320516212,
          0.0678898521868281,
          -0.7367908662157231,
          -0.040448325888901,
          -0.1061303831251733,
          -0.16607220779451656,
          -0.5303962095235052,
          0.06582118576225847,
          -0.899189676731075,
          0.5818098714023023,
          0.8472694103631333,
          0.18922399356763417,
          -0.24074746995892127,
          -0.2440081300149169,
          -0.6951702626651179,
          0.39367893723821823,
          -0.35588224248955,
          0.26996801102235046,
          -0.1059150909416998,
          -0.02066612670128434,
          -0.2977505933781387,
          -0.1556632542467038,
          -0.16198894160370234,
          0.020531089829543745,
          0.5198167456305249,
          -0.03760294985841085,
          -0.29011151855809214,
          -0.5520546397254378,
          4.923145470780632,
          0.11781774380669068,
          -0.3223930396201787,
          -0.9684512490061356,
          0.020229431372753792,
          -0.05288663572699063,
          -0.3221182068566713,
          -0.32158977974686603,
          0.01074484326977238,
          -0.36071386557986057,
          0.020001378988269095,
          -0.00023588045550700597,
          -1.2544554288181478,
          0.19084551306987999,
          0.6143326777910466,
          -0.09062698531191352,
          -0.7809985162707908,
          0.08894658832724414,
          0.36634226215667637,
          -0.03409754617943017,
          0.19168529199381526,
          -0.24652614153509309,
          -0.8736972040984717,
          1.2744847351651447,
          0.781144460590056,
          -1.341066764097809,
          0.32278680585331465,
          -0.4636044725371206,
          0.5787746053061505,
          0.9859793636539315,
          0.06137338819229544,
          0.5837918482648975,
          -0.5136791326040403,
          -0.2794735760931498,
          -0.4579625522855009,
          -1.3712822453959215,
          0.1389164186183369,
          0.6119749167257147,
          -1.2558946229565442,
          -0.32407223385707024
         ],
         "yaxis": "y"
        }
       ],
       "layout": {
        "height": 800,
        "legend": {
         "tracegroupgap": 0
        },
        "margin": {
         "t": 60
        },
        "template": {
         "data": {
          "bar": [
           {
            "error_x": {
             "color": "rgb(51,51,51)"
            },
            "error_y": {
             "color": "rgb(51,51,51)"
            },
            "marker": {
             "line": {
              "color": "rgb(237,237,237)",
              "width": 0.5
             },
             "pattern": {
              "fillmode": "overlay",
              "size": 10,
              "solidity": 0.2
             }
            },
            "type": "bar"
           }
          ],
          "barpolar": [
           {
            "marker": {
             "line": {
              "color": "rgb(237,237,237)",
              "width": 0.5
             },
             "pattern": {
              "fillmode": "overlay",
              "size": 10,
              "solidity": 0.2
             }
            },
            "type": "barpolar"
           }
          ],
          "carpet": [
           {
            "aaxis": {
             "endlinecolor": "rgb(51,51,51)",
             "gridcolor": "white",
             "linecolor": "white",
             "minorgridcolor": "white",
             "startlinecolor": "rgb(51,51,51)"
            },
            "baxis": {
             "endlinecolor": "rgb(51,51,51)",
             "gridcolor": "white",
             "linecolor": "white",
             "minorgridcolor": "white",
             "startlinecolor": "rgb(51,51,51)"
            },
            "type": "carpet"
           }
          ],
          "choropleth": [
           {
            "colorbar": {
             "outlinewidth": 0,
             "tickcolor": "rgb(237,237,237)",
             "ticklen": 6,
             "ticks": "inside"
            },
            "type": "choropleth"
           }
          ],
          "contour": [
           {
            "colorbar": {
             "outlinewidth": 0,
             "tickcolor": "rgb(237,237,237)",
             "ticklen": 6,
             "ticks": "inside"
            },
            "colorscale": [
             [
              0,
              "rgb(20,44,66)"
             ],
             [
              1,
              "rgb(90,179,244)"
             ]
            ],
            "type": "contour"
           }
          ],
          "contourcarpet": [
           {
            "colorbar": {
             "outlinewidth": 0,
             "tickcolor": "rgb(237,237,237)",
             "ticklen": 6,
             "ticks": "inside"
            },
            "type": "contourcarpet"
           }
          ],
          "heatmap": [
           {
            "colorbar": {
             "outlinewidth": 0,
             "tickcolor": "rgb(237,237,237)",
             "ticklen": 6,
             "ticks": "inside"
            },
            "colorscale": [
             [
              0,
              "rgb(20,44,66)"
             ],
             [
              1,
              "rgb(90,179,244)"
             ]
            ],
            "type": "heatmap"
           }
          ],
          "heatmapgl": [
           {
            "colorbar": {
             "outlinewidth": 0,
             "tickcolor": "rgb(237,237,237)",
             "ticklen": 6,
             "ticks": "inside"
            },
            "colorscale": [
             [
              0,
              "rgb(20,44,66)"
             ],
             [
              1,
              "rgb(90,179,244)"
             ]
            ],
            "type": "heatmapgl"
           }
          ],
          "histogram": [
           {
            "marker": {
             "pattern": {
              "fillmode": "overlay",
              "size": 10,
              "solidity": 0.2
             }
            },
            "type": "histogram"
           }
          ],
          "histogram2d": [
           {
            "colorbar": {
             "outlinewidth": 0,
             "tickcolor": "rgb(237,237,237)",
             "ticklen": 6,
             "ticks": "inside"
            },
            "colorscale": [
             [
              0,
              "rgb(20,44,66)"
             ],
             [
              1,
              "rgb(90,179,244)"
             ]
            ],
            "type": "histogram2d"
           }
          ],
          "histogram2dcontour": [
           {
            "colorbar": {
             "outlinewidth": 0,
             "tickcolor": "rgb(237,237,237)",
             "ticklen": 6,
             "ticks": "inside"
            },
            "colorscale": [
             [
              0,
              "rgb(20,44,66)"
             ],
             [
              1,
              "rgb(90,179,244)"
             ]
            ],
            "type": "histogram2dcontour"
           }
          ],
          "mesh3d": [
           {
            "colorbar": {
             "outlinewidth": 0,
             "tickcolor": "rgb(237,237,237)",
             "ticklen": 6,
             "ticks": "inside"
            },
            "type": "mesh3d"
           }
          ],
          "parcoords": [
           {
            "line": {
             "colorbar": {
              "outlinewidth": 0,
              "tickcolor": "rgb(237,237,237)",
              "ticklen": 6,
              "ticks": "inside"
             }
            },
            "type": "parcoords"
           }
          ],
          "pie": [
           {
            "automargin": true,
            "type": "pie"
           }
          ],
          "scatter": [
           {
            "fillpattern": {
             "fillmode": "overlay",
             "size": 10,
             "solidity": 0.2
            },
            "type": "scatter"
           }
          ],
          "scatter3d": [
           {
            "line": {
             "colorbar": {
              "outlinewidth": 0,
              "tickcolor": "rgb(237,237,237)",
              "ticklen": 6,
              "ticks": "inside"
             }
            },
            "marker": {
             "colorbar": {
              "outlinewidth": 0,
              "tickcolor": "rgb(237,237,237)",
              "ticklen": 6,
              "ticks": "inside"
             }
            },
            "type": "scatter3d"
           }
          ],
          "scattercarpet": [
           {
            "marker": {
             "colorbar": {
              "outlinewidth": 0,
              "tickcolor": "rgb(237,237,237)",
              "ticklen": 6,
              "ticks": "inside"
             }
            },
            "type": "scattercarpet"
           }
          ],
          "scattergeo": [
           {
            "marker": {
             "colorbar": {
              "outlinewidth": 0,
              "tickcolor": "rgb(237,237,237)",
              "ticklen": 6,
              "ticks": "inside"
             }
            },
            "type": "scattergeo"
           }
          ],
          "scattergl": [
           {
            "marker": {
             "colorbar": {
              "outlinewidth": 0,
              "tickcolor": "rgb(237,237,237)",
              "ticklen": 6,
              "ticks": "inside"
             }
            },
            "type": "scattergl"
           }
          ],
          "scattermapbox": [
           {
            "marker": {
             "colorbar": {
              "outlinewidth": 0,
              "tickcolor": "rgb(237,237,237)",
              "ticklen": 6,
              "ticks": "inside"
             }
            },
            "type": "scattermapbox"
           }
          ],
          "scatterpolar": [
           {
            "marker": {
             "colorbar": {
              "outlinewidth": 0,
              "tickcolor": "rgb(237,237,237)",
              "ticklen": 6,
              "ticks": "inside"
             }
            },
            "type": "scatterpolar"
           }
          ],
          "scatterpolargl": [
           {
            "marker": {
             "colorbar": {
              "outlinewidth": 0,
              "tickcolor": "rgb(237,237,237)",
              "ticklen": 6,
              "ticks": "inside"
             }
            },
            "type": "scatterpolargl"
           }
          ],
          "scatterternary": [
           {
            "marker": {
             "colorbar": {
              "outlinewidth": 0,
              "tickcolor": "rgb(237,237,237)",
              "ticklen": 6,
              "ticks": "inside"
             }
            },
            "type": "scatterternary"
           }
          ],
          "surface": [
           {
            "colorbar": {
             "outlinewidth": 0,
             "tickcolor": "rgb(237,237,237)",
             "ticklen": 6,
             "ticks": "inside"
            },
            "colorscale": [
             [
              0,
              "rgb(20,44,66)"
             ],
             [
              1,
              "rgb(90,179,244)"
             ]
            ],
            "type": "surface"
           }
          ],
          "table": [
           {
            "cells": {
             "fill": {
              "color": "rgb(237,237,237)"
             },
             "line": {
              "color": "white"
             }
            },
            "header": {
             "fill": {
              "color": "rgb(217,217,217)"
             },
             "line": {
              "color": "white"
             }
            },
            "type": "table"
           }
          ]
         },
         "layout": {
          "annotationdefaults": {
           "arrowhead": 0,
           "arrowwidth": 1
          },
          "autotypenumbers": "strict",
          "coloraxis": {
           "colorbar": {
            "outlinewidth": 0,
            "tickcolor": "rgb(237,237,237)",
            "ticklen": 6,
            "ticks": "inside"
           }
          },
          "colorscale": {
           "sequential": [
            [
             0,
             "rgb(20,44,66)"
            ],
            [
             1,
             "rgb(90,179,244)"
            ]
           ],
           "sequentialminus": [
            [
             0,
             "rgb(20,44,66)"
            ],
            [
             1,
             "rgb(90,179,244)"
            ]
           ]
          },
          "colorway": [
           "#F8766D",
           "#A3A500",
           "#00BF7D",
           "#00B0F6",
           "#E76BF3"
          ],
          "font": {
           "color": "rgb(51,51,51)"
          },
          "geo": {
           "bgcolor": "white",
           "lakecolor": "white",
           "landcolor": "rgb(237,237,237)",
           "showlakes": true,
           "showland": true,
           "subunitcolor": "white"
          },
          "hoverlabel": {
           "align": "left"
          },
          "hovermode": "closest",
          "paper_bgcolor": "white",
          "plot_bgcolor": "rgb(237,237,237)",
          "polar": {
           "angularaxis": {
            "gridcolor": "white",
            "linecolor": "white",
            "showgrid": true,
            "tickcolor": "rgb(51,51,51)",
            "ticks": "outside"
           },
           "bgcolor": "rgb(237,237,237)",
           "radialaxis": {
            "gridcolor": "white",
            "linecolor": "white",
            "showgrid": true,
            "tickcolor": "rgb(51,51,51)",
            "ticks": "outside"
           }
          },
          "scene": {
           "xaxis": {
            "backgroundcolor": "rgb(237,237,237)",
            "gridcolor": "white",
            "gridwidth": 2,
            "linecolor": "white",
            "showbackground": true,
            "showgrid": true,
            "tickcolor": "rgb(51,51,51)",
            "ticks": "outside",
            "zerolinecolor": "white"
           },
           "yaxis": {
            "backgroundcolor": "rgb(237,237,237)",
            "gridcolor": "white",
            "gridwidth": 2,
            "linecolor": "white",
            "showbackground": true,
            "showgrid": true,
            "tickcolor": "rgb(51,51,51)",
            "ticks": "outside",
            "zerolinecolor": "white"
           },
           "zaxis": {
            "backgroundcolor": "rgb(237,237,237)",
            "gridcolor": "white",
            "gridwidth": 2,
            "linecolor": "white",
            "showbackground": true,
            "showgrid": true,
            "tickcolor": "rgb(51,51,51)",
            "ticks": "outside",
            "zerolinecolor": "white"
           }
          },
          "shapedefaults": {
           "fillcolor": "black",
           "line": {
            "width": 0
           },
           "opacity": 0.3
          },
          "ternary": {
           "aaxis": {
            "gridcolor": "white",
            "linecolor": "white",
            "showgrid": true,
            "tickcolor": "rgb(51,51,51)",
            "ticks": "outside"
           },
           "baxis": {
            "gridcolor": "white",
            "linecolor": "white",
            "showgrid": true,
            "tickcolor": "rgb(51,51,51)",
            "ticks": "outside"
           },
           "bgcolor": "rgb(237,237,237)",
           "caxis": {
            "gridcolor": "white",
            "linecolor": "white",
            "showgrid": true,
            "tickcolor": "rgb(51,51,51)",
            "ticks": "outside"
           }
          },
          "xaxis": {
           "automargin": true,
           "gridcolor": "white",
           "linecolor": "white",
           "showgrid": true,
           "tickcolor": "rgb(51,51,51)",
           "ticks": "outside",
           "title": {
            "standoff": 15
           },
           "zerolinecolor": "white"
          },
          "yaxis": {
           "automargin": true,
           "gridcolor": "white",
           "linecolor": "white",
           "showgrid": true,
           "tickcolor": "rgb(51,51,51)",
           "ticks": "outside",
           "title": {
            "standoff": 15
           },
           "zerolinecolor": "white"
          }
         }
        },
        "width": 800,
        "xaxis": {
         "anchor": "y",
         "autorange": false,
         "domain": [
          0,
          1
         ],
         "range": [
          -3.388220410226426,
          3.978498846846162
         ],
         "title": {
          "text": "x"
         },
         "type": "linear"
        },
        "yaxis": {
         "anchor": "x",
         "autorange": false,
         "domain": [
          0,
          1
         ],
         "range": [
          -2.47248156760739,
          3.435063382693712
         ],
         "title": {
          "text": "y"
         },
         "type": "linear"
        }
       }
      },
      "image/png": "[encoded data removed]",
      "text/html": [
       "<div>                            <div id=\"8ea2bc8d-4e55-432a-b8de-85448fa1a5a7\" class=\"plotly-graph-div\" style=\"height:800px; width:800px;\"></div>            <script type=\"text/javascript\">                require([\"plotly\"], function(Plotly) {                    window.PLOTLYENV=window.PLOTLYENV || {};                                    if (document.getElementById(\"8ea2bc8d-4e55-432a-b8de-85448fa1a5a7\")) {                    Plotly.newPlot(                        \"8ea2bc8d-4e55-432a-b8de-85448fa1a5a7\",                        [{\"hovertemplate\":\"x=%{x}<br>y=%{y}<extra></extra>\",\"legendgroup\":\"\",\"marker\":{\"color\":\"#636efa\",\"opacity\":0.4,\"symbol\":\"circle\"},\"mode\":\"markers\",\"name\":\"\",\"orientation\":\"v\",\"showlegend\":false,\"x\":[-0.12546093984519135,0.776738378167996,3.243382734521433,0.8849232403767,-2.5286774193372556,2.0218186053959206,0.03115911883292761,-1.1503897926647295,1.12140696474964,-2.7380327730945964,0.3516029325050402,0.23161662298531036,0.6990792245333094,-0.3804246015865185,0.005988069357505436,1.2698048358469225,0.6583084089290616,-1.8001009247992121,-1.1981476773782858,-1.870942802136704,-0.20503003356431376,0.5426406843110582,-1.5202282773069635,-1.6820771640861412,1.1129852358998151,0.8160152009696005,0.5526557140977445,0.6834417964327553,-2.1593206987588975,0.8839276665618122,0.22450722572333565,0.5381422692334155,0.6060352083271224,2.0834077580315884,0.05338798646116156,0.40057260838248443,0.4243649415484202,-0.4337936434479686,0.5825844167803133,0.7492205599563367,-1.0113885735548347,-0.41966134700961855,0.009781047992330875,-0.11565800055993902,0.8387092390982503,0.11335630770014182,0.52341073072217,0.8108757907051998,-1.045742696645032,1.0893184142956869,-0.408542609882132,1.0827090097083545,-1.601885343042086,0.07046273299396504,-0.20370430373655413,1.8366936233923066,-1.4707950778321324,0.9907353194921661,0.16906125640046293,0.418793440466971,-2.3214721217155776,-0.09658495701043442,-0.68775360638436,-0.7121075007252029,-1.1613795581046833,-0.14847043007641875,0.34211262564509914,-1.5395597688903373,-0.9702014005212122,0.7969977525642858,3.3773646041364884,-1.5659562026852185,0.6670920314888181,-2.3138181875062718,0.14550399043139509,-0.7682660171938798,-0.06165531234842741,4.336257594550278,-0.8599455689551893,2.516513733843958,0.9923833487811607,1.136779223503658,-0.11062808569871034,0.3797877013198966,0.7700702217159068,-0.4617179447509118,1.6177141997646602,-0.9892385085611468,0.37029047549113314,0.7263222025178365,1.0036121509657505,0.04313252801282648,-1.7533085878827734,-1.200162736468205,1.269385250244147,-1.325060644351766,-1.9652737661001327,2.9777910168633355,0.3329703609320476,0.7467858356857123,-1.2080725133849375,2.5033221608149114,0.03617728282354172,0.4978088970706603,0.08486698052120518,-2.145471528813509,-0.1667399302278236,1.0883782332862948,0.5232224298754894,-0.8783498867109959,-0.28857503880610846,0.06381280769462774,0.8034898361351581,0.2306950081937651,0.32799278784627756,-0.6777821615114472,-1.8262893252779338,1.2976438285587526,-0.4190511926242098,-1.8691428763459588,0.039265427109244924,-1.1804605706373876,-0.619210962950655,1.0083886356176754,0.19109776809777293,-0.28018469840815896,-1.0446547750467208,-1.5037535854764974,-0.1630037243784756,-1.0428956214563834,0.12037021550185253,-2.0329125450580467,-0.43990792617714547],\"xaxis\":\"x\",\"y\":[-0.13088919602248045,-0.108685658224723,-0.14674664975008025,-0.07488045776631808,-0.7469946761225402,0.16529400503095568,-1.0415112344665045,-0.9596378000211446,0.5150874130219679,-0.6461521275645676,-0.23322827685250397,0.06621185683492266,-0.27894637261451427,-0.8560913039432833,0.7518535672171386,-0.2580765957838972,-0.23584333989868758,-0.6553773428013693,-0.31810783103089846,0.5873067102547926,-0.0822971804603594,0.4107875144589564,0.5077253208608602,0.05473109041440842,0.5204766082382666,-0.06483413026972497,0.12951007626791491,-0.046886547679891075,-0.7458219325834237,0.17076220501486455,-0.4426222562056165,-0.18914957980032687,-0.12611830494113582,-0.7577271265850823,1.8783643275346658,-0.1864804574464663,-0.1652530743269512,-0.6462899354650657,-0.3273021249097406,0.8691134603816242,-0.19238878374405896,1.455907207316495,-0.3814688936537417,-0.4466133384624608,0.02485722465955198,1.4695455238903021,0.18007293733744734,0.13613432479111312,-0.962756896376372,0.5679061650646346,0.43445762301721164,0.8160977192254318,-0.6814250456968215,-0.5580779443176941,-0.2822088810311583,-0.29949239268994865,0.14525111873688157,0.37144361768226597,0.28706170535101505,-0.10971473503549306,6.095905498896308,-0.019749402959162974,-0.3648037092755701,-0.48351302658054063,-0.36763869856337833,-0.5569734320516212,0.0678898521868281,-0.7367908662157231,-0.040448325888901,-0.1061303831251733,-0.16607220779451656,-0.5303962095235052,0.06582118576225847,-0.899189676731075,0.5818098714023023,0.8472694103631333,0.18922399356763417,-0.24074746995892127,-0.2440081300149169,-0.6951702626651179,0.39367893723821823,-0.35588224248955,0.26996801102235046,-0.1059150909416998,-0.02066612670128434,-0.2977505933781387,-0.1556632542467038,-0.16198894160370234,0.020531089829543745,0.5198167456305249,-0.03760294985841085,-0.29011151855809214,-0.5520546397254378,4.923145470780632,0.11781774380669068,-0.3223930396201787,-0.9684512490061356,0.020229431372753792,-0.05288663572699063,-0.3221182068566713,-0.32158977974686603,0.01074484326977238,-0.36071386557986057,0.020001378988269095,-0.00023588045550700597,-1.2544554288181478,0.19084551306987999,0.6143326777910466,-0.09062698531191352,-0.7809985162707908,0.08894658832724414,0.36634226215667637,-0.03409754617943017,0.19168529199381526,-0.24652614153509309,-0.8736972040984717,1.2744847351651447,0.781144460590056,-1.341066764097809,0.32278680585331465,-0.4636044725371206,0.5787746053061505,0.9859793636539315,0.06137338819229544,0.5837918482648975,-0.5136791326040403,-0.2794735760931498,-0.4579625522855009,-1.3712822453959215,0.1389164186183369,0.6119749167257147,-1.2558946229565442,-0.32407223385707024],\"yaxis\":\"y\",\"type\":\"scatter\"}],                        {\"template\":{\"data\":{\"barpolar\":[{\"marker\":{\"line\":{\"color\":\"rgb(237,237,237)\",\"width\":0.5},\"pattern\":{\"fillmode\":\"overlay\",\"size\":10,\"solidity\":0.2}},\"type\":\"barpolar\"}],\"bar\":[{\"error_x\":{\"color\":\"rgb(51,51,51)\"},\"error_y\":{\"color\":\"rgb(51,51,51)\"},\"marker\":{\"line\":{\"color\":\"rgb(237,237,237)\",\"width\":0.5},\"pattern\":{\"fillmode\":\"overlay\",\"size\":10,\"solidity\":0.2}},\"type\":\"bar\"}],\"carpet\":[{\"aaxis\":{\"endlinecolor\":\"rgb(51,51,51)\",\"gridcolor\":\"white\",\"linecolor\":\"white\",\"minorgridcolor\":\"white\",\"startlinecolor\":\"rgb(51,51,51)\"},\"baxis\":{\"endlinecolor\":\"rgb(51,51,51)\",\"gridcolor\":\"white\",\"linecolor\":\"white\",\"minorgridcolor\":\"white\",\"startlinecolor\":\"rgb(51,51,51)\"},\"type\":\"carpet\"}],\"choropleth\":[{\"colorbar\":{\"outlinewidth\":0,\"tickcolor\":\"rgb(237,237,237)\",\"ticklen\":6,\"ticks\":\"inside\"},\"type\":\"choropleth\"}],\"contourcarpet\":[{\"colorbar\":{\"outlinewidth\":0,\"tickcolor\":\"rgb(237,237,237)\",\"ticklen\":6,\"ticks\":\"inside\"},\"type\":\"contourcarpet\"}],\"contour\":[{\"colorbar\":{\"outlinewidth\":0,\"tickcolor\":\"rgb(237,237,237)\",\"ticklen\":6,\"ticks\":\"inside\"},\"colorscale\":[[0,\"rgb(20,44,66)\"],[1,\"rgb(90,179,244)\"]],\"type\":\"contour\"}],\"heatmapgl\":[{\"colorbar\":{\"outlinewidth\":0,\"tickcolor\":\"rgb(237,237,237)\",\"ticklen\":6,\"ticks\":\"inside\"},\"colorscale\":[[0,\"rgb(20,44,66)\"],[1,\"rgb(90,179,244)\"]],\"type\":\"heatmapgl\"}],\"heatmap\":[{\"colorbar\":{\"outlinewidth\":0,\"tickcolor\":\"rgb(237,237,237)\",\"ticklen\":6,\"ticks\":\"inside\"},\"colorscale\":[[0,\"rgb(20,44,66)\"],[1,\"rgb(90,179,244)\"]],\"type\":\"heatmap\"}],\"histogram2dcontour\":[{\"colorbar\":{\"outlinewidth\":0,\"tickcolor\":\"rgb(237,237,237)\",\"ticklen\":6,\"ticks\":\"inside\"},\"colorscale\":[[0,\"rgb(20,44,66)\"],[1,\"rgb(90,179,244)\"]],\"type\":\"histogram2dcontour\"}],\"histogram2d\":[{\"colorbar\":{\"outlinewidth\":0,\"tickcolor\":\"rgb(237,237,237)\",\"ticklen\":6,\"ticks\":\"inside\"},\"colorscale\":[[0,\"rgb(20,44,66)\"],[1,\"rgb(90,179,244)\"]],\"type\":\"histogram2d\"}],\"histogram\":[{\"marker\":{\"pattern\":{\"fillmode\":\"overlay\",\"size\":10,\"solidity\":0.2}},\"type\":\"histogram\"}],\"mesh3d\":[{\"colorbar\":{\"outlinewidth\":0,\"tickcolor\":\"rgb(237,237,237)\",\"ticklen\":6,\"ticks\":\"inside\"},\"type\":\"mesh3d\"}],\"parcoords\":[{\"line\":{\"colorbar\":{\"outlinewidth\":0,\"tickcolor\":\"rgb(237,237,237)\",\"ticklen\":6,\"ticks\":\"inside\"}},\"type\":\"parcoords\"}],\"pie\":[{\"automargin\":true,\"type\":\"pie\"}],\"scatter3d\":[{\"line\":{\"colorbar\":{\"outlinewidth\":0,\"tickcolor\":\"rgb(237,237,237)\",\"ticklen\":6,\"ticks\":\"inside\"}},\"marker\":{\"colorbar\":{\"outlinewidth\":0,\"tickcolor\":\"rgb(237,237,237)\",\"ticklen\":6,\"ticks\":\"inside\"}},\"type\":\"scatter3d\"}],\"scattercarpet\":[{\"marker\":{\"colorbar\":{\"outlinewidth\":0,\"tickcolor\":\"rgb(237,237,237)\",\"ticklen\":6,\"ticks\":\"inside\"}},\"type\":\"scattercarpet\"}],\"scattergeo\":[{\"marker\":{\"colorbar\":{\"outlinewidth\":0,\"tickcolor\":\"rgb(237,237,237)\",\"ticklen\":6,\"ticks\":\"inside\"}},\"type\":\"scattergeo\"}],\"scattergl\":[{\"marker\":{\"colorbar\":{\"outlinewidth\":0,\"tickcolor\":\"rgb(237,237,237)\",\"ticklen\":6,\"ticks\":\"inside\"}},\"type\":\"scattergl\"}],\"scattermapbox\":[{\"marker\":{\"colorbar\":{\"outlinewidth\":0,\"tickcolor\":\"rgb(237,237,237)\",\"ticklen\":6,\"ticks\":\"inside\"}},\"type\":\"scattermapbox\"}],\"scatterpolargl\":[{\"marker\":{\"colorbar\":{\"outlinewidth\":0,\"tickcolor\":\"rgb(237,237,237)\",\"ticklen\":6,\"ticks\":\"inside\"}},\"type\":\"scatterpolargl\"}],\"scatterpolar\":[{\"marker\":{\"colorbar\":{\"outlinewidth\":0,\"tickcolor\":\"rgb(237,237,237)\",\"ticklen\":6,\"ticks\":\"inside\"}},\"type\":\"scatterpolar\"}],\"scatter\":[{\"fillpattern\":{\"fillmode\":\"overlay\",\"size\":10,\"solidity\":0.2},\"type\":\"scatter\"}],\"scatterternary\":[{\"marker\":{\"colorbar\":{\"outlinewidth\":0,\"tickcolor\":\"rgb(237,237,237)\",\"ticklen\":6,\"ticks\":\"inside\"}},\"type\":\"scatterternary\"}],\"surface\":[{\"colorbar\":{\"outlinewidth\":0,\"tickcolor\":\"rgb(237,237,237)\",\"ticklen\":6,\"ticks\":\"inside\"},\"colorscale\":[[0,\"rgb(20,44,66)\"],[1,\"rgb(90,179,244)\"]],\"type\":\"surface\"}],\"table\":[{\"cells\":{\"fill\":{\"color\":\"rgb(237,237,237)\"},\"line\":{\"color\":\"white\"}},\"header\":{\"fill\":{\"color\":\"rgb(217,217,217)\"},\"line\":{\"color\":\"white\"}},\"type\":\"table\"}]},\"layout\":{\"annotationdefaults\":{\"arrowhead\":0,\"arrowwidth\":1},\"autotypenumbers\":\"strict\",\"coloraxis\":{\"colorbar\":{\"outlinewidth\":0,\"tickcolor\":\"rgb(237,237,237)\",\"ticklen\":6,\"ticks\":\"inside\"}},\"colorscale\":{\"sequential\":[[0,\"rgb(20,44,66)\"],[1,\"rgb(90,179,244)\"]],\"sequentialminus\":[[0,\"rgb(20,44,66)\"],[1,\"rgb(90,179,244)\"]]},\"colorway\":[\"#F8766D\",\"#A3A500\",\"#00BF7D\",\"#00B0F6\",\"#E76BF3\"],\"font\":{\"color\":\"rgb(51,51,51)\"},\"geo\":{\"bgcolor\":\"white\",\"lakecolor\":\"white\",\"landcolor\":\"rgb(237,237,237)\",\"showlakes\":true,\"showland\":true,\"subunitcolor\":\"white\"},\"hoverlabel\":{\"align\":\"left\"},\"hovermode\":\"closest\",\"paper_bgcolor\":\"white\",\"plot_bgcolor\":\"rgb(237,237,237)\",\"polar\":{\"angularaxis\":{\"gridcolor\":\"white\",\"linecolor\":\"white\",\"showgrid\":true,\"tickcolor\":\"rgb(51,51,51)\",\"ticks\":\"outside\"},\"bgcolor\":\"rgb(237,237,237)\",\"radialaxis\":{\"gridcolor\":\"white\",\"linecolor\":\"white\",\"showgrid\":true,\"tickcolor\":\"rgb(51,51,51)\",\"ticks\":\"outside\"}},\"scene\":{\"xaxis\":{\"backgroundcolor\":\"rgb(237,237,237)\",\"gridcolor\":\"white\",\"gridwidth\":2,\"linecolor\":\"white\",\"showbackground\":true,\"showgrid\":true,\"tickcolor\":\"rgb(51,51,51)\",\"ticks\":\"outside\",\"zerolinecolor\":\"white\"},\"yaxis\":{\"backgroundcolor\":\"rgb(237,237,237)\",\"gridcolor\":\"white\",\"gridwidth\":2,\"linecolor\":\"white\",\"showbackground\":true,\"showgrid\":true,\"tickcolor\":\"rgb(51,51,51)\",\"ticks\":\"outside\",\"zerolinecolor\":\"white\"},\"zaxis\":{\"backgroundcolor\":\"rgb(237,237,237)\",\"gridcolor\":\"white\",\"gridwidth\":2,\"linecolor\":\"white\",\"showbackground\":true,\"showgrid\":true,\"tickcolor\":\"rgb(51,51,51)\",\"ticks\":\"outside\",\"zerolinecolor\":\"white\"}},\"shapedefaults\":{\"fillcolor\":\"black\",\"line\":{\"width\":0},\"opacity\":0.3},\"ternary\":{\"aaxis\":{\"gridcolor\":\"white\",\"linecolor\":\"white\",\"showgrid\":true,\"tickcolor\":\"rgb(51,51,51)\",\"ticks\":\"outside\"},\"baxis\":{\"gridcolor\":\"white\",\"linecolor\":\"white\",\"showgrid\":true,\"tickcolor\":\"rgb(51,51,51)\",\"ticks\":\"outside\"},\"bgcolor\":\"rgb(237,237,237)\",\"caxis\":{\"gridcolor\":\"white\",\"linecolor\":\"white\",\"showgrid\":true,\"tickcolor\":\"rgb(51,51,51)\",\"ticks\":\"outside\"}},\"xaxis\":{\"automargin\":true,\"gridcolor\":\"white\",\"linecolor\":\"white\",\"showgrid\":true,\"tickcolor\":\"rgb(51,51,51)\",\"ticks\":\"outside\",\"title\":{\"standoff\":15},\"zerolinecolor\":\"white\"},\"yaxis\":{\"automargin\":true,\"gridcolor\":\"white\",\"linecolor\":\"white\",\"showgrid\":true,\"tickcolor\":\"rgb(51,51,51)\",\"ticks\":\"outside\",\"title\":{\"standoff\":15},\"zerolinecolor\":\"white\"}}},\"xaxis\":{\"anchor\":\"y\",\"domain\":[0.0,1.0],\"title\":{\"text\":\"x\"}},\"yaxis\":{\"anchor\":\"x\",\"domain\":[0.0,1.0],\"title\":{\"text\":\"y\"}},\"legend\":{\"tracegroupgap\":0},\"margin\":{\"t\":60},\"height\":800,\"width\":800},                        {\"responsive\": true}                    ).then(function(){\n",
       "                            \n",
       "var gd = document.getElementById('8ea2bc8d-4e55-432a-b8de-85448fa1a5a7');\n",
       "var x = new MutationObserver(function (mutations, observer) {{\n",
       "        var display = window.getComputedStyle(gd).display;\n",
       "        if (!display || display === 'none') {{\n",
       "            console.log([gd, 'removed!']);\n",
       "            Plotly.purge(gd);\n",
       "            observer.disconnect();\n",
       "        }}\n",
       "}});\n",
       "\n",
       "// Listen for the removal of the full notebook cells\n",
       "var notebookContainer = gd.closest('#notebook-container');\n",
       "if (notebookContainer) {{\n",
       "    x.observe(notebookContainer, {childList: true});\n",
       "}}\n",
       "\n",
       "// Listen for the clearing of the current output cell\n",
       "var outputEl = gd.closest('.output');\n",
       "if (outputEl) {{\n",
       "    x.observe(outputEl, {childList: true});\n",
       "}}\n",
       "\n",
       "                        })                };                });            </script>        </div>"
      ]
     },
     "metadata": {},
     "output_type": "display_data"
    }
   ],
   "source": [
    "pca = PCA(n_components=2)\n",
    "\n",
    "vectors_2d = pca.fit_transform(combined_vectors)\n",
    "\n",
    "fig = px.scatter(\n",
    "    \n",
    "    x=vectors_2d[:,0], \n",
    "    y=vectors_2d[:,1],\n",
    "    opacity=0.4, \n",
    "    width=800, \n",
    "    height=800,\n",
    ")\n",
    "\n",
    "fig.show()"
   ]
  }
 ],
 "metadata": {
  "kernelspec": {
   "display_name": "Python 3 (ipykernel)",
   "language": "python",
   "name": "python3"
  },
  "language_info": {
   "codemirror_mode": {
    "name": "ipython",
    "version": 3
   },
   "file_extension": ".py",
   "mimetype": "text/x-python",
   "name": "python",
   "nbconvert_exporter": "python",
   "pygments_lexer": "ipython3",
   "version": "3.11.5"
  }
 },
 "nbformat": 4,
 "nbformat_minor": 5
}
